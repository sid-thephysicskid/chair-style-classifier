{
  "nbformat": 4,
  "nbformat_minor": 0,
  "metadata": {
    "colab": {
      "name": "Train_chair_style.ipynb",
      "provenance": [],
      "collapsed_sections": [],
      "machine_shape": "hm",
      "authorship_tag": "ABX9TyPZUO62gtftc+XM9v6yYWHf",
      "include_colab_link": true
    },
    "kernelspec": {
      "name": "python3",
      "display_name": "Python 3"
    },
    "accelerator": "GPU"
  },
  "cells": [
    {
      "cell_type": "markdown",
      "metadata": {
        "id": "view-in-github",
        "colab_type": "text"
      },
      "source": [
        "<a href=\"https://colab.research.google.com/github/who-knows-its-nebulose/chair-style-classifier/blob/main/Train_chair_style.ipynb\" target=\"_parent\"><img src=\"https://colab.research.google.com/assets/colab-badge.svg\" alt=\"Open In Colab\"/></a>"
      ]
    },
    {
      "cell_type": "code",
      "metadata": {
        "id": "ojbOLWKzqCpl",
        "outputId": "fde033b8-aa3b-45c7-cdec-779d8e04a802",
        "colab": {
          "base_uri": "https://localhost:8080/"
        }
      },
      "source": [
        "# Load the Drive helper and mount\n",
        "from google.colab import drive\n",
        "\n",
        "# This will prompt for authorization.\n",
        "drive.mount('/content/drive')"
      ],
      "execution_count": 2,
      "outputs": [
        {
          "output_type": "stream",
          "text": [
            "Mounted at /content/drive\n"
          ],
          "name": "stdout"
        }
      ]
    },
    {
      "cell_type": "code",
      "metadata": {
        "id": "M4hFh_bjvTad",
        "outputId": "7d85140f-b1bd-4243-ce50-1390f4e6f31b",
        "colab": {
          "base_uri": "https://localhost:8080/"
        }
      },
      "source": [
        "!pip install split_folders\n",
        "import splitfolders"
      ],
      "execution_count": null,
      "outputs": [
        {
          "output_type": "stream",
          "text": [
            "Collecting split_folders\n",
            "  Downloading https://files.pythonhosted.org/packages/b8/5f/3c2b2f7ea5e047c8cdc3bb00ae582c5438fcdbbedcc23b3cc1c2c7aae642/split_folders-0.4.3-py3-none-any.whl\n",
            "Installing collected packages: split-folders\n",
            "Successfully installed split-folders-0.4.3\n"
          ],
          "name": "stdout"
        }
      ]
    },
    {
      "cell_type": "code",
      "metadata": {
        "id": "5EtIQdSvvTYi"
      },
      "source": [
        "# Split 70:15:15 into training, validation and test\n",
        "\n",
        "splitfolders.ratio('/content/drive/My Drive/colabdownloads/chairs/', output=\"/content/drive/My Drive/DS_projects/chair_classifier/\", seed=1337, ratio=(.7, 0.15,0.15))"
      ],
      "execution_count": null,
      "outputs": []
    },
    {
      "cell_type": "code",
      "metadata": {
        "id": "Q-htiy5lvTWJ",
        "outputId": "737c02d1-9d5c-431e-8c5e-44b32f88b174",
        "colab": {
          "base_uri": "https://localhost:8080/"
        }
      },
      "source": [
        "#Import libraries\n",
        "import os\n",
        "import numpy as np\n",
        "from pathlib import Path\n",
        "import re\n",
        "import tensorflow as tf\n",
        "from tensorflow import keras\n",
        "from tensorflow.keras import layers\n",
        "import matplotlib.pyplot as plt\n",
        "from keras.layers import Dense, Dropout, GlobalAveragePooling2D\n",
        "from tensorflow.keras.layers.experimental import preprocessing\n",
        "from keras.preprocessing.image import ImageDataGenerator\n",
        "from sklearn.metrics import classification_report, confusion_matrix\n",
        "\n",
        "#variables\n",
        "img_height = 224\n",
        "img_width = 224\n",
        "batch_size = 32\n",
        "N_CLASSES = 4\n",
        "\n",
        "\n",
        "#data generation\n",
        "data_path = '/content/drive/My Drive/DS_projects/chair_classifier/'\n",
        "train_data_path = data_path + 'train/'\n",
        "val_data_path = data_path + 'val/'\n",
        "test_data_path = data_path + 'test/'\n",
        "\n",
        "\n",
        "train_datagen = ImageDataGenerator(rescale=1. / 255,\n",
        "                                   rotation_range=20,\n",
        "                                  #  width_shift_range=0.1,\n",
        "                                  #  height_shift_range=0.1,\n",
        "                                   shear_range=0.2,\n",
        "                                  #  zoom_range=0.1,\n",
        "                                   horizontal_flip=True,\n",
        "                                   fill_mode='nearest')\n",
        "\n",
        "val_datagen = ImageDataGenerator(rescale=1. / 255)\n",
        "\n",
        "test_datagen = ImageDataGenerator(rescale=1. / 255)\n",
        "\n",
        "train_generator = train_datagen.flow_from_directory(train_data_path,\n",
        "                                                    target_size=(img_height, img_width),\n",
        "                                                    batch_size=batch_size,\n",
        "                                                    class_mode='categorical')\n",
        "\n",
        "val_generator = val_datagen.flow_from_directory(val_data_path,\n",
        "                                                        target_size=(img_height, img_width),\n",
        "                                                        batch_size=batch_size,\n",
        "                                                        class_mode='categorical')\n",
        "\n",
        "test_generator = test_datagen.flow_from_directory(test_data_path,\n",
        "                                                        target_size=(img_height, img_width),\n",
        "                                                        batch_size=batch_size,\n",
        "                                                        shuffle = False,\n",
        "                                                        class_mode='categorical')\n",
        "\n",
        "\n"
      ],
      "execution_count": 2,
      "outputs": [
        {
          "output_type": "stream",
          "text": [
            "Found 1344 images belonging to 4 classes.\n",
            "Found 287 images belonging to 4 classes.\n",
            "Found 291 images belonging to 4 classes.\n"
          ],
          "name": "stdout"
        }
      ]
    },
    {
      "cell_type": "code",
      "metadata": {
        "id": "Yo8mlVvuvTUQ",
        "outputId": "477893b3-c516-4518-bae4-5f4e92c26d4e",
        "colab": {
          "base_uri": "https://localhost:8080/"
        }
      },
      "source": [
        "# create class dict: mapping indices to category names\n",
        "labels_train = []\n",
        "class_dict = (train_generator.class_indices)\n",
        "print(class_dict)\n",
        "\n",
        "#save class dict (useful later during deployment)\n",
        "import json\n",
        "with open(\"class_dict.json\",\"w\") as f:\n",
        "  f.write(json.dumps(class_dict))\n",
        "\n",
        "\n",
        "for key, value in dict_train.items():\n",
        "   labels_train.append(key)\n",
        "print(labels_train)\n",
        "\n"
      ],
      "execution_count": 5,
      "outputs": [
        {
          "output_type": "stream",
          "text": [
            "{'Farmhouse': 0, 'Industrial': 1, 'Midcentury': 2, 'Tropical': 3}\n",
            "['Farmhouse', 'Industrial', 'Midcentury', 'Tropical']\n"
          ],
          "name": "stdout"
        }
      ]
    },
    {
      "cell_type": "code",
      "metadata": {
        "id": "ej2LH0lvhAzA"
      },
      "source": [
        "\n",
        "\n",
        "# Visualize input data (augmented training images)\n",
        "\n",
        "x,y = next(train_generator)\n",
        "\n",
        "plt.figure(figsize=(10, 10))\n",
        "for i in range(0,9):\n",
        "    ax = plt.subplot(3, 3, i + 1)\n",
        "    image = x[i]\n",
        "    label = labels_train[np.argmax(y[i])]\n",
        "    plt.imshow(image)\n",
        "    plt.title(label)\n",
        "  \n"
      ],
      "execution_count": null,
      "outputs": []
    },
    {
      "cell_type": "code",
      "metadata": {
        "id": "p318nnY0vTR9",
        "outputId": "7436b624-9ab4-496b-975e-92d3d5876315",
        "colab": {
          "base_uri": "https://localhost:8080/"
        }
      },
      "source": [
        "#base model MobilenetV2\n",
        "\n",
        "preprocess_input = tf.keras.applications.mobilenet_v2.preprocess_input\n",
        "\n",
        "\n",
        "base_model = tf.keras.applications.MobileNetV2(input_shape=(img_height, \n",
        "                                                           img_width,\n",
        "                                                              3),\n",
        "                                               include_top=False,\n",
        "                                               weights='imagenet',\n",
        "                                               pooling = 'max',\n",
        "                                               alpha = 1.4)\n",
        "\n",
        "base_model.trainable = False\n",
        "\n",
        "base_model.summary()\n",
        "\n",
        "\n"
      ],
      "execution_count": null,
      "outputs": [
        {
          "output_type": "stream",
          "text": [
            "Model: \"mobilenetv2_1.40_224\"\n",
            "__________________________________________________________________________________________________\n",
            "Layer (type)                    Output Shape         Param #     Connected to                     \n",
            "==================================================================================================\n",
            "input_1 (InputLayer)            [(None, 224, 224, 3) 0                                            \n",
            "__________________________________________________________________________________________________\n",
            "Conv1_pad (ZeroPadding2D)       (None, 225, 225, 3)  0           input_1[0][0]                    \n",
            "__________________________________________________________________________________________________\n",
            "Conv1 (Conv2D)                  (None, 112, 112, 48) 1296        Conv1_pad[0][0]                  \n",
            "__________________________________________________________________________________________________\n",
            "bn_Conv1 (BatchNormalization)   (None, 112, 112, 48) 192         Conv1[0][0]                      \n",
            "__________________________________________________________________________________________________\n",
            "Conv1_relu (ReLU)               (None, 112, 112, 48) 0           bn_Conv1[0][0]                   \n",
            "__________________________________________________________________________________________________\n",
            "expanded_conv_depthwise (Depthw (None, 112, 112, 48) 432         Conv1_relu[0][0]                 \n",
            "__________________________________________________________________________________________________\n",
            "expanded_conv_depthwise_BN (Bat (None, 112, 112, 48) 192         expanded_conv_depthwise[0][0]    \n",
            "__________________________________________________________________________________________________\n",
            "expanded_conv_depthwise_relu (R (None, 112, 112, 48) 0           expanded_conv_depthwise_BN[0][0] \n",
            "__________________________________________________________________________________________________\n",
            "expanded_conv_project (Conv2D)  (None, 112, 112, 24) 1152        expanded_conv_depthwise_relu[0][0\n",
            "__________________________________________________________________________________________________\n",
            "expanded_conv_project_BN (Batch (None, 112, 112, 24) 96          expanded_conv_project[0][0]      \n",
            "__________________________________________________________________________________________________\n",
            "block_1_expand (Conv2D)         (None, 112, 112, 144 3456        expanded_conv_project_BN[0][0]   \n",
            "__________________________________________________________________________________________________\n",
            "block_1_expand_BN (BatchNormali (None, 112, 112, 144 576         block_1_expand[0][0]             \n",
            "__________________________________________________________________________________________________\n",
            "block_1_expand_relu (ReLU)      (None, 112, 112, 144 0           block_1_expand_BN[0][0]          \n",
            "__________________________________________________________________________________________________\n",
            "block_1_pad (ZeroPadding2D)     (None, 113, 113, 144 0           block_1_expand_relu[0][0]        \n",
            "__________________________________________________________________________________________________\n",
            "block_1_depthwise (DepthwiseCon (None, 56, 56, 144)  1296        block_1_pad[0][0]                \n",
            "__________________________________________________________________________________________________\n",
            "block_1_depthwise_BN (BatchNorm (None, 56, 56, 144)  576         block_1_depthwise[0][0]          \n",
            "__________________________________________________________________________________________________\n",
            "block_1_depthwise_relu (ReLU)   (None, 56, 56, 144)  0           block_1_depthwise_BN[0][0]       \n",
            "__________________________________________________________________________________________________\n",
            "block_1_project (Conv2D)        (None, 56, 56, 32)   4608        block_1_depthwise_relu[0][0]     \n",
            "__________________________________________________________________________________________________\n",
            "block_1_project_BN (BatchNormal (None, 56, 56, 32)   128         block_1_project[0][0]            \n",
            "__________________________________________________________________________________________________\n",
            "block_2_expand (Conv2D)         (None, 56, 56, 192)  6144        block_1_project_BN[0][0]         \n",
            "__________________________________________________________________________________________________\n",
            "block_2_expand_BN (BatchNormali (None, 56, 56, 192)  768         block_2_expand[0][0]             \n",
            "__________________________________________________________________________________________________\n",
            "block_2_expand_relu (ReLU)      (None, 56, 56, 192)  0           block_2_expand_BN[0][0]          \n",
            "__________________________________________________________________________________________________\n",
            "block_2_depthwise (DepthwiseCon (None, 56, 56, 192)  1728        block_2_expand_relu[0][0]        \n",
            "__________________________________________________________________________________________________\n",
            "block_2_depthwise_BN (BatchNorm (None, 56, 56, 192)  768         block_2_depthwise[0][0]          \n",
            "__________________________________________________________________________________________________\n",
            "block_2_depthwise_relu (ReLU)   (None, 56, 56, 192)  0           block_2_depthwise_BN[0][0]       \n",
            "__________________________________________________________________________________________________\n",
            "block_2_project (Conv2D)        (None, 56, 56, 32)   6144        block_2_depthwise_relu[0][0]     \n",
            "__________________________________________________________________________________________________\n",
            "block_2_project_BN (BatchNormal (None, 56, 56, 32)   128         block_2_project[0][0]            \n",
            "__________________________________________________________________________________________________\n",
            "block_2_add (Add)               (None, 56, 56, 32)   0           block_1_project_BN[0][0]         \n",
            "                                                                 block_2_project_BN[0][0]         \n",
            "__________________________________________________________________________________________________\n",
            "block_3_expand (Conv2D)         (None, 56, 56, 192)  6144        block_2_add[0][0]                \n",
            "__________________________________________________________________________________________________\n",
            "block_3_expand_BN (BatchNormali (None, 56, 56, 192)  768         block_3_expand[0][0]             \n",
            "__________________________________________________________________________________________________\n",
            "block_3_expand_relu (ReLU)      (None, 56, 56, 192)  0           block_3_expand_BN[0][0]          \n",
            "__________________________________________________________________________________________________\n",
            "block_3_pad (ZeroPadding2D)     (None, 57, 57, 192)  0           block_3_expand_relu[0][0]        \n",
            "__________________________________________________________________________________________________\n",
            "block_3_depthwise (DepthwiseCon (None, 28, 28, 192)  1728        block_3_pad[0][0]                \n",
            "__________________________________________________________________________________________________\n",
            "block_3_depthwise_BN (BatchNorm (None, 28, 28, 192)  768         block_3_depthwise[0][0]          \n",
            "__________________________________________________________________________________________________\n",
            "block_3_depthwise_relu (ReLU)   (None, 28, 28, 192)  0           block_3_depthwise_BN[0][0]       \n",
            "__________________________________________________________________________________________________\n",
            "block_3_project (Conv2D)        (None, 28, 28, 48)   9216        block_3_depthwise_relu[0][0]     \n",
            "__________________________________________________________________________________________________\n",
            "block_3_project_BN (BatchNormal (None, 28, 28, 48)   192         block_3_project[0][0]            \n",
            "__________________________________________________________________________________________________\n",
            "block_4_expand (Conv2D)         (None, 28, 28, 288)  13824       block_3_project_BN[0][0]         \n",
            "__________________________________________________________________________________________________\n",
            "block_4_expand_BN (BatchNormali (None, 28, 28, 288)  1152        block_4_expand[0][0]             \n",
            "__________________________________________________________________________________________________\n",
            "block_4_expand_relu (ReLU)      (None, 28, 28, 288)  0           block_4_expand_BN[0][0]          \n",
            "__________________________________________________________________________________________________\n",
            "block_4_depthwise (DepthwiseCon (None, 28, 28, 288)  2592        block_4_expand_relu[0][0]        \n",
            "__________________________________________________________________________________________________\n",
            "block_4_depthwise_BN (BatchNorm (None, 28, 28, 288)  1152        block_4_depthwise[0][0]          \n",
            "__________________________________________________________________________________________________\n",
            "block_4_depthwise_relu (ReLU)   (None, 28, 28, 288)  0           block_4_depthwise_BN[0][0]       \n",
            "__________________________________________________________________________________________________\n",
            "block_4_project (Conv2D)        (None, 28, 28, 48)   13824       block_4_depthwise_relu[0][0]     \n",
            "__________________________________________________________________________________________________\n",
            "block_4_project_BN (BatchNormal (None, 28, 28, 48)   192         block_4_project[0][0]            \n",
            "__________________________________________________________________________________________________\n",
            "block_4_add (Add)               (None, 28, 28, 48)   0           block_3_project_BN[0][0]         \n",
            "                                                                 block_4_project_BN[0][0]         \n",
            "__________________________________________________________________________________________________\n",
            "block_5_expand (Conv2D)         (None, 28, 28, 288)  13824       block_4_add[0][0]                \n",
            "__________________________________________________________________________________________________\n",
            "block_5_expand_BN (BatchNormali (None, 28, 28, 288)  1152        block_5_expand[0][0]             \n",
            "__________________________________________________________________________________________________\n",
            "block_5_expand_relu (ReLU)      (None, 28, 28, 288)  0           block_5_expand_BN[0][0]          \n",
            "__________________________________________________________________________________________________\n",
            "block_5_depthwise (DepthwiseCon (None, 28, 28, 288)  2592        block_5_expand_relu[0][0]        \n",
            "__________________________________________________________________________________________________\n",
            "block_5_depthwise_BN (BatchNorm (None, 28, 28, 288)  1152        block_5_depthwise[0][0]          \n",
            "__________________________________________________________________________________________________\n",
            "block_5_depthwise_relu (ReLU)   (None, 28, 28, 288)  0           block_5_depthwise_BN[0][0]       \n",
            "__________________________________________________________________________________________________\n",
            "block_5_project (Conv2D)        (None, 28, 28, 48)   13824       block_5_depthwise_relu[0][0]     \n",
            "__________________________________________________________________________________________________\n",
            "block_5_project_BN (BatchNormal (None, 28, 28, 48)   192         block_5_project[0][0]            \n",
            "__________________________________________________________________________________________________\n",
            "block_5_add (Add)               (None, 28, 28, 48)   0           block_4_add[0][0]                \n",
            "                                                                 block_5_project_BN[0][0]         \n",
            "__________________________________________________________________________________________________\n",
            "block_6_expand (Conv2D)         (None, 28, 28, 288)  13824       block_5_add[0][0]                \n",
            "__________________________________________________________________________________________________\n",
            "block_6_expand_BN (BatchNormali (None, 28, 28, 288)  1152        block_6_expand[0][0]             \n",
            "__________________________________________________________________________________________________\n",
            "block_6_expand_relu (ReLU)      (None, 28, 28, 288)  0           block_6_expand_BN[0][0]          \n",
            "__________________________________________________________________________________________________\n",
            "block_6_pad (ZeroPadding2D)     (None, 29, 29, 288)  0           block_6_expand_relu[0][0]        \n",
            "__________________________________________________________________________________________________\n",
            "block_6_depthwise (DepthwiseCon (None, 14, 14, 288)  2592        block_6_pad[0][0]                \n",
            "__________________________________________________________________________________________________\n",
            "block_6_depthwise_BN (BatchNorm (None, 14, 14, 288)  1152        block_6_depthwise[0][0]          \n",
            "__________________________________________________________________________________________________\n",
            "block_6_depthwise_relu (ReLU)   (None, 14, 14, 288)  0           block_6_depthwise_BN[0][0]       \n",
            "__________________________________________________________________________________________________\n",
            "block_6_project (Conv2D)        (None, 14, 14, 88)   25344       block_6_depthwise_relu[0][0]     \n",
            "__________________________________________________________________________________________________\n",
            "block_6_project_BN (BatchNormal (None, 14, 14, 88)   352         block_6_project[0][0]            \n",
            "__________________________________________________________________________________________________\n",
            "block_7_expand (Conv2D)         (None, 14, 14, 528)  46464       block_6_project_BN[0][0]         \n",
            "__________________________________________________________________________________________________\n",
            "block_7_expand_BN (BatchNormali (None, 14, 14, 528)  2112        block_7_expand[0][0]             \n",
            "__________________________________________________________________________________________________\n",
            "block_7_expand_relu (ReLU)      (None, 14, 14, 528)  0           block_7_expand_BN[0][0]          \n",
            "__________________________________________________________________________________________________\n",
            "block_7_depthwise (DepthwiseCon (None, 14, 14, 528)  4752        block_7_expand_relu[0][0]        \n",
            "__________________________________________________________________________________________________\n",
            "block_7_depthwise_BN (BatchNorm (None, 14, 14, 528)  2112        block_7_depthwise[0][0]          \n",
            "__________________________________________________________________________________________________\n",
            "block_7_depthwise_relu (ReLU)   (None, 14, 14, 528)  0           block_7_depthwise_BN[0][0]       \n",
            "__________________________________________________________________________________________________\n",
            "block_7_project (Conv2D)        (None, 14, 14, 88)   46464       block_7_depthwise_relu[0][0]     \n",
            "__________________________________________________________________________________________________\n",
            "block_7_project_BN (BatchNormal (None, 14, 14, 88)   352         block_7_project[0][0]            \n",
            "__________________________________________________________________________________________________\n",
            "block_7_add (Add)               (None, 14, 14, 88)   0           block_6_project_BN[0][0]         \n",
            "                                                                 block_7_project_BN[0][0]         \n",
            "__________________________________________________________________________________________________\n",
            "block_8_expand (Conv2D)         (None, 14, 14, 528)  46464       block_7_add[0][0]                \n",
            "__________________________________________________________________________________________________\n",
            "block_8_expand_BN (BatchNormali (None, 14, 14, 528)  2112        block_8_expand[0][0]             \n",
            "__________________________________________________________________________________________________\n",
            "block_8_expand_relu (ReLU)      (None, 14, 14, 528)  0           block_8_expand_BN[0][0]          \n",
            "__________________________________________________________________________________________________\n",
            "block_8_depthwise (DepthwiseCon (None, 14, 14, 528)  4752        block_8_expand_relu[0][0]        \n",
            "__________________________________________________________________________________________________\n",
            "block_8_depthwise_BN (BatchNorm (None, 14, 14, 528)  2112        block_8_depthwise[0][0]          \n",
            "__________________________________________________________________________________________________\n",
            "block_8_depthwise_relu (ReLU)   (None, 14, 14, 528)  0           block_8_depthwise_BN[0][0]       \n",
            "__________________________________________________________________________________________________\n",
            "block_8_project (Conv2D)        (None, 14, 14, 88)   46464       block_8_depthwise_relu[0][0]     \n",
            "__________________________________________________________________________________________________\n",
            "block_8_project_BN (BatchNormal (None, 14, 14, 88)   352         block_8_project[0][0]            \n",
            "__________________________________________________________________________________________________\n",
            "block_8_add (Add)               (None, 14, 14, 88)   0           block_7_add[0][0]                \n",
            "                                                                 block_8_project_BN[0][0]         \n",
            "__________________________________________________________________________________________________\n",
            "block_9_expand (Conv2D)         (None, 14, 14, 528)  46464       block_8_add[0][0]                \n",
            "__________________________________________________________________________________________________\n",
            "block_9_expand_BN (BatchNormali (None, 14, 14, 528)  2112        block_9_expand[0][0]             \n",
            "__________________________________________________________________________________________________\n",
            "block_9_expand_relu (ReLU)      (None, 14, 14, 528)  0           block_9_expand_BN[0][0]          \n",
            "__________________________________________________________________________________________________\n",
            "block_9_depthwise (DepthwiseCon (None, 14, 14, 528)  4752        block_9_expand_relu[0][0]        \n",
            "__________________________________________________________________________________________________\n",
            "block_9_depthwise_BN (BatchNorm (None, 14, 14, 528)  2112        block_9_depthwise[0][0]          \n",
            "__________________________________________________________________________________________________\n",
            "block_9_depthwise_relu (ReLU)   (None, 14, 14, 528)  0           block_9_depthwise_BN[0][0]       \n",
            "__________________________________________________________________________________________________\n",
            "block_9_project (Conv2D)        (None, 14, 14, 88)   46464       block_9_depthwise_relu[0][0]     \n",
            "__________________________________________________________________________________________________\n",
            "block_9_project_BN (BatchNormal (None, 14, 14, 88)   352         block_9_project[0][0]            \n",
            "__________________________________________________________________________________________________\n",
            "block_9_add (Add)               (None, 14, 14, 88)   0           block_8_add[0][0]                \n",
            "                                                                 block_9_project_BN[0][0]         \n",
            "__________________________________________________________________________________________________\n",
            "block_10_expand (Conv2D)        (None, 14, 14, 528)  46464       block_9_add[0][0]                \n",
            "__________________________________________________________________________________________________\n",
            "block_10_expand_BN (BatchNormal (None, 14, 14, 528)  2112        block_10_expand[0][0]            \n",
            "__________________________________________________________________________________________________\n",
            "block_10_expand_relu (ReLU)     (None, 14, 14, 528)  0           block_10_expand_BN[0][0]         \n",
            "__________________________________________________________________________________________________\n",
            "block_10_depthwise (DepthwiseCo (None, 14, 14, 528)  4752        block_10_expand_relu[0][0]       \n",
            "__________________________________________________________________________________________________\n",
            "block_10_depthwise_BN (BatchNor (None, 14, 14, 528)  2112        block_10_depthwise[0][0]         \n",
            "__________________________________________________________________________________________________\n",
            "block_10_depthwise_relu (ReLU)  (None, 14, 14, 528)  0           block_10_depthwise_BN[0][0]      \n",
            "__________________________________________________________________________________________________\n",
            "block_10_project (Conv2D)       (None, 14, 14, 136)  71808       block_10_depthwise_relu[0][0]    \n",
            "__________________________________________________________________________________________________\n",
            "block_10_project_BN (BatchNorma (None, 14, 14, 136)  544         block_10_project[0][0]           \n",
            "__________________________________________________________________________________________________\n",
            "block_11_expand (Conv2D)        (None, 14, 14, 816)  110976      block_10_project_BN[0][0]        \n",
            "__________________________________________________________________________________________________\n",
            "block_11_expand_BN (BatchNormal (None, 14, 14, 816)  3264        block_11_expand[0][0]            \n",
            "__________________________________________________________________________________________________\n",
            "block_11_expand_relu (ReLU)     (None, 14, 14, 816)  0           block_11_expand_BN[0][0]         \n",
            "__________________________________________________________________________________________________\n",
            "block_11_depthwise (DepthwiseCo (None, 14, 14, 816)  7344        block_11_expand_relu[0][0]       \n",
            "__________________________________________________________________________________________________\n",
            "block_11_depthwise_BN (BatchNor (None, 14, 14, 816)  3264        block_11_depthwise[0][0]         \n",
            "__________________________________________________________________________________________________\n",
            "block_11_depthwise_relu (ReLU)  (None, 14, 14, 816)  0           block_11_depthwise_BN[0][0]      \n",
            "__________________________________________________________________________________________________\n",
            "block_11_project (Conv2D)       (None, 14, 14, 136)  110976      block_11_depthwise_relu[0][0]    \n",
            "__________________________________________________________________________________________________\n",
            "block_11_project_BN (BatchNorma (None, 14, 14, 136)  544         block_11_project[0][0]           \n",
            "__________________________________________________________________________________________________\n",
            "block_11_add (Add)              (None, 14, 14, 136)  0           block_10_project_BN[0][0]        \n",
            "                                                                 block_11_project_BN[0][0]        \n",
            "__________________________________________________________________________________________________\n",
            "block_12_expand (Conv2D)        (None, 14, 14, 816)  110976      block_11_add[0][0]               \n",
            "__________________________________________________________________________________________________\n",
            "block_12_expand_BN (BatchNormal (None, 14, 14, 816)  3264        block_12_expand[0][0]            \n",
            "__________________________________________________________________________________________________\n",
            "block_12_expand_relu (ReLU)     (None, 14, 14, 816)  0           block_12_expand_BN[0][0]         \n",
            "__________________________________________________________________________________________________\n",
            "block_12_depthwise (DepthwiseCo (None, 14, 14, 816)  7344        block_12_expand_relu[0][0]       \n",
            "__________________________________________________________________________________________________\n",
            "block_12_depthwise_BN (BatchNor (None, 14, 14, 816)  3264        block_12_depthwise[0][0]         \n",
            "__________________________________________________________________________________________________\n",
            "block_12_depthwise_relu (ReLU)  (None, 14, 14, 816)  0           block_12_depthwise_BN[0][0]      \n",
            "__________________________________________________________________________________________________\n",
            "block_12_project (Conv2D)       (None, 14, 14, 136)  110976      block_12_depthwise_relu[0][0]    \n",
            "__________________________________________________________________________________________________\n",
            "block_12_project_BN (BatchNorma (None, 14, 14, 136)  544         block_12_project[0][0]           \n",
            "__________________________________________________________________________________________________\n",
            "block_12_add (Add)              (None, 14, 14, 136)  0           block_11_add[0][0]               \n",
            "                                                                 block_12_project_BN[0][0]        \n",
            "__________________________________________________________________________________________________\n",
            "block_13_expand (Conv2D)        (None, 14, 14, 816)  110976      block_12_add[0][0]               \n",
            "__________________________________________________________________________________________________\n",
            "block_13_expand_BN (BatchNormal (None, 14, 14, 816)  3264        block_13_expand[0][0]            \n",
            "__________________________________________________________________________________________________\n",
            "block_13_expand_relu (ReLU)     (None, 14, 14, 816)  0           block_13_expand_BN[0][0]         \n",
            "__________________________________________________________________________________________________\n",
            "block_13_pad (ZeroPadding2D)    (None, 15, 15, 816)  0           block_13_expand_relu[0][0]       \n",
            "__________________________________________________________________________________________________\n",
            "block_13_depthwise (DepthwiseCo (None, 7, 7, 816)    7344        block_13_pad[0][0]               \n",
            "__________________________________________________________________________________________________\n",
            "block_13_depthwise_BN (BatchNor (None, 7, 7, 816)    3264        block_13_depthwise[0][0]         \n",
            "__________________________________________________________________________________________________\n",
            "block_13_depthwise_relu (ReLU)  (None, 7, 7, 816)    0           block_13_depthwise_BN[0][0]      \n",
            "__________________________________________________________________________________________________\n",
            "block_13_project (Conv2D)       (None, 7, 7, 224)    182784      block_13_depthwise_relu[0][0]    \n",
            "__________________________________________________________________________________________________\n",
            "block_13_project_BN (BatchNorma (None, 7, 7, 224)    896         block_13_project[0][0]           \n",
            "__________________________________________________________________________________________________\n",
            "block_14_expand (Conv2D)        (None, 7, 7, 1344)   301056      block_13_project_BN[0][0]        \n",
            "__________________________________________________________________________________________________\n",
            "block_14_expand_BN (BatchNormal (None, 7, 7, 1344)   5376        block_14_expand[0][0]            \n",
            "__________________________________________________________________________________________________\n",
            "block_14_expand_relu (ReLU)     (None, 7, 7, 1344)   0           block_14_expand_BN[0][0]         \n",
            "__________________________________________________________________________________________________\n",
            "block_14_depthwise (DepthwiseCo (None, 7, 7, 1344)   12096       block_14_expand_relu[0][0]       \n",
            "__________________________________________________________________________________________________\n",
            "block_14_depthwise_BN (BatchNor (None, 7, 7, 1344)   5376        block_14_depthwise[0][0]         \n",
            "__________________________________________________________________________________________________\n",
            "block_14_depthwise_relu (ReLU)  (None, 7, 7, 1344)   0           block_14_depthwise_BN[0][0]      \n",
            "__________________________________________________________________________________________________\n",
            "block_14_project (Conv2D)       (None, 7, 7, 224)    301056      block_14_depthwise_relu[0][0]    \n",
            "__________________________________________________________________________________________________\n",
            "block_14_project_BN (BatchNorma (None, 7, 7, 224)    896         block_14_project[0][0]           \n",
            "__________________________________________________________________________________________________\n",
            "block_14_add (Add)              (None, 7, 7, 224)    0           block_13_project_BN[0][0]        \n",
            "                                                                 block_14_project_BN[0][0]        \n",
            "__________________________________________________________________________________________________\n",
            "block_15_expand (Conv2D)        (None, 7, 7, 1344)   301056      block_14_add[0][0]               \n",
            "__________________________________________________________________________________________________\n",
            "block_15_expand_BN (BatchNormal (None, 7, 7, 1344)   5376        block_15_expand[0][0]            \n",
            "__________________________________________________________________________________________________\n",
            "block_15_expand_relu (ReLU)     (None, 7, 7, 1344)   0           block_15_expand_BN[0][0]         \n",
            "__________________________________________________________________________________________________\n",
            "block_15_depthwise (DepthwiseCo (None, 7, 7, 1344)   12096       block_15_expand_relu[0][0]       \n",
            "__________________________________________________________________________________________________\n",
            "block_15_depthwise_BN (BatchNor (None, 7, 7, 1344)   5376        block_15_depthwise[0][0]         \n",
            "__________________________________________________________________________________________________\n",
            "block_15_depthwise_relu (ReLU)  (None, 7, 7, 1344)   0           block_15_depthwise_BN[0][0]      \n",
            "__________________________________________________________________________________________________\n",
            "block_15_project (Conv2D)       (None, 7, 7, 224)    301056      block_15_depthwise_relu[0][0]    \n",
            "__________________________________________________________________________________________________\n",
            "block_15_project_BN (BatchNorma (None, 7, 7, 224)    896         block_15_project[0][0]           \n",
            "__________________________________________________________________________________________________\n",
            "block_15_add (Add)              (None, 7, 7, 224)    0           block_14_add[0][0]               \n",
            "                                                                 block_15_project_BN[0][0]        \n",
            "__________________________________________________________________________________________________\n",
            "block_16_expand (Conv2D)        (None, 7, 7, 1344)   301056      block_15_add[0][0]               \n",
            "__________________________________________________________________________________________________\n",
            "block_16_expand_BN (BatchNormal (None, 7, 7, 1344)   5376        block_16_expand[0][0]            \n",
            "__________________________________________________________________________________________________\n",
            "block_16_expand_relu (ReLU)     (None, 7, 7, 1344)   0           block_16_expand_BN[0][0]         \n",
            "__________________________________________________________________________________________________\n",
            "block_16_depthwise (DepthwiseCo (None, 7, 7, 1344)   12096       block_16_expand_relu[0][0]       \n",
            "__________________________________________________________________________________________________\n",
            "block_16_depthwise_BN (BatchNor (None, 7, 7, 1344)   5376        block_16_depthwise[0][0]         \n",
            "__________________________________________________________________________________________________\n",
            "block_16_depthwise_relu (ReLU)  (None, 7, 7, 1344)   0           block_16_depthwise_BN[0][0]      \n",
            "__________________________________________________________________________________________________\n",
            "block_16_project (Conv2D)       (None, 7, 7, 448)    602112      block_16_depthwise_relu[0][0]    \n",
            "__________________________________________________________________________________________________\n",
            "block_16_project_BN (BatchNorma (None, 7, 7, 448)    1792        block_16_project[0][0]           \n",
            "__________________________________________________________________________________________________\n",
            "Conv_1 (Conv2D)                 (None, 7, 7, 1792)   802816      block_16_project_BN[0][0]        \n",
            "__________________________________________________________________________________________________\n",
            "Conv_1_bn (BatchNormalization)  (None, 7, 7, 1792)   7168        Conv_1[0][0]                     \n",
            "__________________________________________________________________________________________________\n",
            "out_relu (ReLU)                 (None, 7, 7, 1792)   0           Conv_1_bn[0][0]                  \n",
            "__________________________________________________________________________________________________\n",
            "global_max_pooling2d (GlobalMax (None, 1792)         0           out_relu[0][0]                   \n",
            "==================================================================================================\n",
            "Total params: 4,363,712\n",
            "Trainable params: 0\n",
            "Non-trainable params: 4,363,712\n",
            "__________________________________________________________________________________________________\n"
          ],
          "name": "stdout"
        }
      ]
    },
    {
      "cell_type": "code",
      "metadata": {
        "id": "awRJUcLOwHUh",
        "outputId": "386e8e46-6b1d-4dbc-b2ef-40088f63de0e",
        "colab": {
          "base_uri": "https://localhost:8080/"
        }
      },
      "source": [
        "#build model\n",
        "kernel_init = tf.keras.initializers.glorot_uniform(seed=1337)\n",
        "inputs = tf.keras.Input(shape=(img_height, img_width, 3))\n",
        "preprocessed_input = preprocess_input(inputs)\n",
        "base_model_out = base_model(preprocessed_input, training=False)\n",
        "dense1 = Dense(256, activation = 'relu')(base_model_out)\n",
        "drop2 = Dropout(0.3)(dense1)\n",
        "dense2 = Dense(256, activation = 'relu')(drop2)\n",
        "drop3 = Dropout(0.2)(dense2)\n",
        "outputs = Dense(N_CLASSES, activation='softmax', kernel_initializer = kernel_init)(drop3)\n",
        "model = tf.keras.Model(inputs, outputs)\n",
        "\n",
        "# model.summary()\n",
        "len(model.trainable_variables)\n"
      ],
      "execution_count": null,
      "outputs": [
        {
          "output_type": "execute_result",
          "data": {
            "text/plain": [
              "6"
            ]
          },
          "metadata": {
            "tags": []
          },
          "execution_count": 7
        }
      ]
    },
    {
      "cell_type": "code",
      "metadata": {
        "id": "2aKuzSN_vTP9"
      },
      "source": [
        "from keras.callbacks import ModelCheckpoint, EarlyStopping, ReduceLROnPlateau\n",
        "from keras.optimizers import Adam\n",
        "\n",
        "checkpoint_filepath = \"/content/drive/My Drive/Colab Notebooks/checkpoints_test/{epoch:02d}_{val_accuracy:.4f}.h5\"\n",
        "model_checkpoint_callback = ModelCheckpoint(\n",
        "    filepath=checkpoint_filepath,\n",
        "    monitor='val_accuracy', \n",
        "    mode='max', \n",
        "    verbose=1,    \n",
        "    save_best_only=True)   \n",
        " \n",
        "reduce_lr =  ReduceLROnPlateau(patience=3, monitor='val_accuracy', factor = 0.2 , min_lr=1e-7, verbose=1)\n",
        "\n",
        "early_stopping = EarlyStopping(patience=6, monitor='val_accuracy', restore_best_weights=True, mode='max',verbose=1,min_delta=0.001)\n",
        "          \n",
        "Callbacks=[model_checkpoint_callback, reduce_lr, early_stopping]    "
      ],
      "execution_count": null,
      "outputs": []
    },
    {
      "cell_type": "code",
      "metadata": {
        "id": "gq-vuXOavTOF",
        "outputId": "4a09fbad-195d-466f-a8ce-4db55912487d",
        "colab": {
          "base_uri": "https://localhost:8080/"
        }
      },
      "source": [
        "TRAIN_DATASET_SIZE = len(train_generator)\n",
        "VAL_DATASET_SIZE   = len(val_generator)\n",
        "\n",
        "# Weighted losses for class equilibrium\n",
        "# unique, counts = np.unique(ds_train.class_names, return_counts=True)\n",
        "# class_weights = dict(zip(unique, np.true_divide(counts.sum(), N_CLASSES*counts)))\n",
        "#/content/drive/My Drive/Colab Notebooks\n",
        "\n",
        "\n",
        "# Prepare model to run\n",
        "\n",
        "\n",
        "base_learning_rate = 0.001\n",
        "model.compile(optimizer = tf.keras.optimizers.Adam(learning_rate=base_learning_rate),\n",
        "              loss = 'categorical_crossentropy',\n",
        "              metrics = ['accuracy']\n",
        "              )\n",
        "INITIAL_EPOCH = 0\n",
        "TOTAL_EPOCHS = 50\n",
        "# Start training the model\n",
        "history = model.fit(train_generator,\n",
        "                    epochs=TOTAL_EPOCHS,\n",
        "                    verbose=1,\n",
        "                    steps_per_epoch=TRAIN_DATASET_SIZE,\n",
        "                    validation_data=val_generator,\n",
        "                    validation_steps=VAL_DATASET_SIZE,\n",
        "                    initial_epoch=INITIAL_EPOCH,\n",
        "                    callbacks=[model_checkpoint_callback, reduce_lr, early_stopping]\n",
        "                    )"
      ],
      "execution_count": null,
      "outputs": [
        {
          "output_type": "stream",
          "text": [
            "Epoch 1/50\n",
            "42/42 [==============================] - ETA: 0s - loss: 1.4627 - accuracy: 0.4048\n",
            "Epoch 00001: val_accuracy improved from -inf to 0.48432, saving model to /content/drive/My Drive/Colab Notebooks/checkpoints_test/01_0.4843.h5\n",
            "42/42 [==============================] - 18s 425ms/step - loss: 1.4627 - accuracy: 0.4048 - val_loss: 1.2410 - val_accuracy: 0.4843\n",
            "Epoch 2/50\n",
            "42/42 [==============================] - ETA: 0s - loss: 1.2583 - accuracy: 0.4583\n",
            "Epoch 00002: val_accuracy improved from 0.48432 to 0.54704, saving model to /content/drive/My Drive/Colab Notebooks/checkpoints_test/02_0.5470.h5\n",
            "42/42 [==============================] - 17s 400ms/step - loss: 1.2583 - accuracy: 0.4583 - val_loss: 1.1391 - val_accuracy: 0.5470\n",
            "Epoch 3/50\n",
            "42/42 [==============================] - ETA: 0s - loss: 1.1998 - accuracy: 0.4866\n",
            "Epoch 00003: val_accuracy did not improve from 0.54704\n",
            "42/42 [==============================] - 17s 393ms/step - loss: 1.1998 - accuracy: 0.4866 - val_loss: 1.1394 - val_accuracy: 0.5261\n",
            "Epoch 4/50\n",
            "42/42 [==============================] - ETA: 0s - loss: 1.1832 - accuracy: 0.5000\n",
            "Epoch 00004: val_accuracy did not improve from 0.54704\n",
            "42/42 [==============================] - 16s 390ms/step - loss: 1.1832 - accuracy: 0.5000 - val_loss: 1.1538 - val_accuracy: 0.5366\n",
            "Epoch 5/50\n",
            "42/42 [==============================] - ETA: 0s - loss: 1.1584 - accuracy: 0.5164\n",
            "Epoch 00005: val_accuracy improved from 0.54704 to 0.57143, saving model to /content/drive/My Drive/Colab Notebooks/checkpoints_test/05_0.5714.h5\n",
            "42/42 [==============================] - 17s 398ms/step - loss: 1.1584 - accuracy: 0.5164 - val_loss: 1.0699 - val_accuracy: 0.5714\n",
            "Epoch 6/50\n",
            "42/42 [==============================] - ETA: 0s - loss: 1.1272 - accuracy: 0.5365\n",
            "Epoch 00006: val_accuracy improved from 0.57143 to 0.57491, saving model to /content/drive/My Drive/Colab Notebooks/checkpoints_test/06_0.5749.h5\n",
            "42/42 [==============================] - 17s 400ms/step - loss: 1.1272 - accuracy: 0.5365 - val_loss: 1.0646 - val_accuracy: 0.5749\n",
            "Epoch 7/50\n",
            "42/42 [==============================] - ETA: 0s - loss: 1.0842 - accuracy: 0.5528\n",
            "Epoch 00007: val_accuracy did not improve from 0.57491\n",
            "42/42 [==============================] - 16s 390ms/step - loss: 1.0842 - accuracy: 0.5528 - val_loss: 1.0148 - val_accuracy: 0.5610\n",
            "Epoch 8/50\n",
            "42/42 [==============================] - ETA: 0s - loss: 1.1121 - accuracy: 0.5275\n",
            "Epoch 00008: val_accuracy did not improve from 0.57491\n",
            "42/42 [==============================] - 17s 394ms/step - loss: 1.1121 - accuracy: 0.5275 - val_loss: 1.0479 - val_accuracy: 0.5679\n",
            "Epoch 9/50\n",
            "42/42 [==============================] - ETA: 0s - loss: 1.0465 - accuracy: 0.5796\n",
            "Epoch 00009: val_accuracy did not improve from 0.57491\n",
            "\n",
            "Epoch 00009: ReduceLROnPlateau reducing learning rate to 0.00020000000949949026.\n",
            "42/42 [==============================] - 16s 388ms/step - loss: 1.0465 - accuracy: 0.5796 - val_loss: 1.0771 - val_accuracy: 0.5679\n",
            "Epoch 10/50\n",
            "42/42 [==============================] - ETA: 0s - loss: 0.9982 - accuracy: 0.6004\n",
            "Epoch 00010: val_accuracy did not improve from 0.57491\n",
            "42/42 [==============================] - 16s 388ms/step - loss: 0.9982 - accuracy: 0.6004 - val_loss: 1.0072 - val_accuracy: 0.5679\n",
            "Epoch 11/50\n",
            "42/42 [==============================] - ETA: 0s - loss: 0.9561 - accuracy: 0.6250\n",
            "Epoch 00011: val_accuracy improved from 0.57491 to 0.57840, saving model to /content/drive/My Drive/Colab Notebooks/checkpoints_test/11_0.5784.h5\n",
            "42/42 [==============================] - 17s 401ms/step - loss: 0.9561 - accuracy: 0.6250 - val_loss: 1.0178 - val_accuracy: 0.5784\n",
            "Epoch 12/50\n",
            "42/42 [==============================] - ETA: 0s - loss: 0.9408 - accuracy: 0.6168\n",
            "Epoch 00012: val_accuracy improved from 0.57840 to 0.60279, saving model to /content/drive/My Drive/Colab Notebooks/checkpoints_test/12_0.6028.h5\n",
            "42/42 [==============================] - 17s 401ms/step - loss: 0.9408 - accuracy: 0.6168 - val_loss: 1.0202 - val_accuracy: 0.6028\n",
            "Epoch 13/50\n",
            "42/42 [==============================] - ETA: 0s - loss: 0.9325 - accuracy: 0.6220\n",
            "Epoch 00013: val_accuracy did not improve from 0.60279\n",
            "42/42 [==============================] - 17s 395ms/step - loss: 0.9325 - accuracy: 0.6220 - val_loss: 1.0007 - val_accuracy: 0.5958\n",
            "Epoch 14/50\n",
            "42/42 [==============================] - ETA: 0s - loss: 0.9366 - accuracy: 0.6205\n",
            "Epoch 00014: val_accuracy did not improve from 0.60279\n",
            "42/42 [==============================] - 16s 389ms/step - loss: 0.9366 - accuracy: 0.6205 - val_loss: 1.0247 - val_accuracy: 0.6028\n",
            "Epoch 15/50\n",
            "42/42 [==============================] - ETA: 0s - loss: 0.9521 - accuracy: 0.6324\n",
            "Epoch 00015: val_accuracy did not improve from 0.60279\n",
            "\n",
            "Epoch 00015: ReduceLROnPlateau reducing learning rate to 4.0000001899898055e-05.\n",
            "42/42 [==============================] - 16s 390ms/step - loss: 0.9521 - accuracy: 0.6324 - val_loss: 1.0044 - val_accuracy: 0.6028\n",
            "Epoch 16/50\n",
            "42/42 [==============================] - ETA: 0s - loss: 0.9232 - accuracy: 0.6310\n",
            "Epoch 00016: val_accuracy did not improve from 0.60279\n",
            "42/42 [==============================] - 16s 389ms/step - loss: 0.9232 - accuracy: 0.6310 - val_loss: 0.9895 - val_accuracy: 0.5923\n",
            "Epoch 17/50\n",
            "42/42 [==============================] - ETA: 0s - loss: 0.9050 - accuracy: 0.6317\n",
            "Epoch 00017: val_accuracy did not improve from 0.60279\n",
            "42/42 [==============================] - 16s 390ms/step - loss: 0.9050 - accuracy: 0.6317 - val_loss: 0.9971 - val_accuracy: 0.5784\n",
            "Epoch 18/50\n",
            "42/42 [==============================] - ETA: 0s - loss: 0.8872 - accuracy: 0.6525\n",
            "Epoch 00018: val_accuracy did not improve from 0.60279\n",
            "\n",
            "Epoch 00018: ReduceLROnPlateau reducing learning rate to 8.000000525498762e-06.\n",
            "Restoring model weights from the end of the best epoch.\n",
            "42/42 [==============================] - 17s 393ms/step - loss: 0.8872 - accuracy: 0.6525 - val_loss: 0.9926 - val_accuracy: 0.5993\n",
            "Epoch 00018: early stopping\n"
          ],
          "name": "stdout"
        }
      ]
    },
    {
      "cell_type": "code",
      "metadata": {
        "id": "5_WvnOpdvTMK",
        "outputId": "b30f0887-d19d-4263-ccca-ef5f768ffc41",
        "colab": {
          "base_uri": "https://localhost:8080/",
          "height": 513
        }
      },
      "source": [
        "acc = history.history['accuracy']\n",
        "val_acc = history.history['val_accuracy']\n",
        "\n",
        "loss = history.history['loss']\n",
        "val_loss = history.history['val_loss']\n",
        "\n",
        "plt.figure(figsize=(8, 8))\n",
        "plt.subplot(2, 1, 1)\n",
        "plt.plot(acc, label='Training Accuracy')\n",
        "plt.plot(val_acc, label='Validation Accuracy')\n",
        "plt.legend(loc='lower right')\n",
        "plt.ylabel('Accuracy')\n",
        "plt.ylim([min(plt.ylim()),1])\n",
        "plt.title('Training and Validation Accuracy')\n",
        "\n",
        "plt.subplot(2, 1, 2)\n",
        "plt.plot(loss, label='Training Loss')\n",
        "plt.plot(val_loss, label='Validation Loss')\n",
        "plt.legend(loc='upper right')\n",
        "plt.ylabel('Cross Entropy')\n",
        "plt.ylim([0,2.0])\n",
        "plt.title('Training and Validation Loss')\n",
        "plt.xlabel('epoch')\n",
        "plt.show()\n",
        "\n"
      ],
      "execution_count": null,
      "outputs": [
        {
          "output_type": "display_data",
          "data": {
            "image/png": "[encoded data removed]",
            "text/plain": [
              "<Figure size 576x576 with 2 Axes>"
            ]
          },
          "metadata": {
            "tags": [],
            "needs_background": "light"
          }
        }
      ]
    },
    {
      "cell_type": "code",
      "metadata": {
        "id": "NyJxPOkfvTKG",
        "outputId": "71510bf8-5ae3-4244-807b-b16d0fe1c181",
        "colab": {
          "base_uri": "https://localhost:8080/"
        }
      },
      "source": [
        "#Confusion Matrix and Classification Report\n",
        "from sklearn.metrics import classification_report, confusion_matrix\n",
        "\n",
        "#num_of_test_samples = 261\n",
        "\n",
        "Y_pred = model.predict(test_generator)#, num_of_test_samples // batch_size)\n",
        "y_pred = np.argmax(Y_pred, axis=1)\n",
        "print('Confusion Matrix')\n",
        "print(confusion_matrix(test_generator.classes, y_pred))\n",
        "print('Classification Report')\n",
        "\n",
        "#Mapping class indices to category names\n",
        "labels = []\n",
        "dict = (test_generator.class_indices)\n",
        "\n",
        "for key, value in dict.items():\n",
        "   labels.append(key)\n",
        "\n",
        "\n",
        "print(classification_report(test_generator.classes, y_pred, target_names=labels))"
      ],
      "execution_count": null,
      "outputs": [
        {
          "output_type": "stream",
          "text": [
            "Confusion Matrix\n",
            "[[61 12  3 20]\n",
            " [15 51  8  7]\n",
            " [ 3 10 25 11]\n",
            " [ 6 13  4 42]]\n",
            "Classification Report\n",
            "              precision    recall  f1-score   support\n",
            "\n",
            "   Farmhouse       0.72      0.64      0.67        96\n",
            "  Industrial       0.59      0.63      0.61        81\n",
            "  Midcentury       0.62      0.51      0.56        49\n",
            "    Tropical       0.53      0.65      0.58        65\n",
            "\n",
            "    accuracy                           0.62       291\n",
            "   macro avg       0.62      0.61      0.61       291\n",
            "weighted avg       0.62      0.62      0.62       291\n",
            "\n"
          ],
          "name": "stdout"
        }
      ]
    },
    {
      "cell_type": "code",
      "metadata": {
        "id": "vJ1UiSHrvTH7"
      },
      "source": [
        "#Retreive the epoch number and weights from the highest val_accuracy pass\n",
        "\n",
        "\n",
        "chair_checkpoint_path = '/content/drive/My Drive/Colab Notebooks/checkpoints_test/'\n",
        "if Path(chair_checkpoint_path).exists():\n",
        "  epoch_number_array = []\n",
        "  val_accuracy_array = []\n",
        "  file_name_array = []\n",
        "  for file in os.listdir(chair_checkpoint_path):\n",
        "      epoch, val_ac = re.search(r'(\\d\\d)_(\\d\\.\\d{4})\\.h5', file).group(1,2)\n",
        "      epoch_number_array.append(int(epoch))\n",
        "      val_accuracy_array.append(float(val_ac))\n",
        "      file_name_array.append(file)\n",
        "\n",
        "      if len(val_accuracy_array) == 0:\n",
        "        INITIAL_EPOCH = 0\n",
        "      else:\n",
        "        highest_acc = val_accuracy_array.index(max(val_accuracy_array))\n",
        "        INITIAL_EPOCH = epoch_number_array[highest_acc]\n",
        "        model_checkpoint_callback.best = val_accuracy_array[highest_acc]\n",
        "        model.load_weights(chair_checkpoint_path + file_name_array[highest_acc])\n",
        "else:\n",
        "  os.makedirs(chair_checkpoint_path)\n",
        "  INITIAL_EPOCH = 0"
      ],
      "execution_count": null,
      "outputs": []
    },
    {
      "cell_type": "code",
      "metadata": {
        "id": "wIP9x2WTvS_6",
        "outputId": "88ffe07a-3e4c-4e67-a4c1-bd9968f62cd0",
        "colab": {
          "base_uri": "https://localhost:8080/"
        }
      },
      "source": [
        "print(val_accuracy_array[highest_acc])\n",
        "print(INITIAL_EPOCH)"
      ],
      "execution_count": null,
      "outputs": [
        {
          "output_type": "stream",
          "text": [
            "0.6028\n",
            "12\n"
          ],
          "name": "stdout"
        }
      ]
    },
    {
      "cell_type": "markdown",
      "metadata": {
        "id": "0v3UiB9lrbJJ"
      },
      "source": [
        "FINE TUNE"
      ]
    },
    {
      "cell_type": "code",
      "metadata": {
        "id": "WqYiu6kSvS4U",
        "outputId": "6f520a05-f3b9-4c4a-d5c4-41c9e1d48da9",
        "colab": {
          "base_uri": "https://localhost:8080/"
        }
      },
      "source": [
        "#Set base model to be trained \n",
        "\n",
        "base_model.trainable = True\n",
        "# Let's take a look to see how many layers are in the base model\n",
        "print(\"Number of layers in the base model: \", len(base_model.layers))\n",
        "\n",
        "# #Freeze everything below this layer and fine tune this layer onwards\n",
        "\n",
        "# fine_tune_at = 20\n",
        "\n",
        "# # Freeze all the layers before the `fine_tune_at` layer\n",
        "# for layer in base_model.layers[:fine_tune_at]:\n",
        "#   layer.trainable =  False\n",
        "\n",
        "\n",
        "model.compile(optimizer = Adam(learning_rate=base_learning_rate/100),\n",
        "              loss = 'categorical_crossentropy',\n",
        "              metrics = ['accuracy']\n",
        "              )\n",
        "model.summary()\n",
        "\n",
        "len(model.trainable_variables)"
      ],
      "execution_count": null,
      "outputs": [
        {
          "output_type": "stream",
          "text": [
            "Number of layers in the base model:  156\n",
            "Model: \"functional_1\"\n",
            "_________________________________________________________________\n",
            "Layer (type)                 Output Shape              Param #   \n",
            "=================================================================\n",
            "input_2 (InputLayer)         [(None, 224, 224, 3)]     0         \n",
            "_________________________________________________________________\n",
            "tf_op_layer_RealDiv (TensorF [(None, 224, 224, 3)]     0         \n",
            "_________________________________________________________________\n",
            "tf_op_layer_Sub (TensorFlowO [(None, 224, 224, 3)]     0         \n",
            "_________________________________________________________________\n",
            "mobilenetv2_1.40_224 (Functi (None, 1792)              4363712   \n",
            "_________________________________________________________________\n",
            "dense (Dense)                (None, 256)               459008    \n",
            "_________________________________________________________________\n",
            "dropout (Dropout)            (None, 256)               0         \n",
            "_________________________________________________________________\n",
            "dense_1 (Dense)              (None, 256)               65792     \n",
            "_________________________________________________________________\n",
            "dropout_1 (Dropout)          (None, 256)               0         \n",
            "_________________________________________________________________\n",
            "dense_2 (Dense)              (None, 4)                 1028      \n",
            "=================================================================\n",
            "Total params: 4,889,540\n",
            "Trainable params: 4,841,604\n",
            "Non-trainable params: 47,936\n",
            "_________________________________________________________________\n"
          ],
          "name": "stdout"
        },
        {
          "output_type": "execute_result",
          "data": {
            "text/plain": [
              "162"
            ]
          },
          "metadata": {
            "tags": []
          },
          "execution_count": 14
        }
      ]
    },
    {
      "cell_type": "code",
      "metadata": {
        "id": "8BTAuUa4vSt2",
        "outputId": "4fa39b13-d3e3-4ed2-fb32-2e40e85660fc",
        "colab": {
          "base_uri": "https://localhost:8080/"
        }
      },
      "source": [
        "FINE_EPOCHS = 20\n",
        "\n",
        "\n",
        "history_fine = model.fit(train_generator,\n",
        "                        epochs=TOTAL_EPOCHS + FINE_EPOCHS,\n",
        "                        verbose=1,\n",
        "                        steps_per_epoch=TRAIN_DATASET_SIZE,\n",
        "                        validation_data=val_generator,\n",
        "                        validation_steps=VAL_DATASET_SIZE,\n",
        "                        initial_epoch=INITIAL_EPOCH,\n",
        "                        callbacks=[model_checkpoint_callback, reduce_lr, early_stopping]\n",
        "                        )"
      ],
      "execution_count": null,
      "outputs": [
        {
          "output_type": "stream",
          "text": [
            "Epoch 13/70\n",
            " 2/42 [>.............................] - ETA: 4s - loss: 2.0761 - accuracy: 0.4688WARNING:tensorflow:Callbacks method `on_train_batch_end` is slow compared to the batch time (batch time: 0.0529s vs `on_train_batch_end` time: 0.1655s). Check your callbacks.\n",
            "42/42 [==============================] - ETA: 0s - loss: 1.3881 - accuracy: 0.3951\n",
            "Epoch 00013: val_accuracy did not improve from 0.60280\n",
            "42/42 [==============================] - 17s 414ms/step - loss: 1.3881 - accuracy: 0.3951 - val_loss: 1.2181 - val_accuracy: 0.4878\n",
            "Epoch 14/70\n",
            "42/42 [==============================] - ETA: 0s - loss: 1.2055 - accuracy: 0.4821\n",
            "Epoch 00014: val_accuracy did not improve from 0.60280\n",
            "42/42 [==============================] - 17s 406ms/step - loss: 1.2055 - accuracy: 0.4821 - val_loss: 1.1416 - val_accuracy: 0.5575\n",
            "Epoch 15/70\n",
            "42/42 [==============================] - ETA: 0s - loss: 1.1077 - accuracy: 0.5409\n",
            "Epoch 00015: val_accuracy did not improve from 0.60280\n",
            "42/42 [==============================] - 17s 398ms/step - loss: 1.1077 - accuracy: 0.5409 - val_loss: 1.0417 - val_accuracy: 0.5854\n",
            "Epoch 16/70\n",
            "42/42 [==============================] - ETA: 0s - loss: 1.0678 - accuracy: 0.5685\n",
            "Epoch 00016: val_accuracy improved from 0.60280 to 0.62021, saving model to /content/drive/My Drive/Colab Notebooks/checkpoints_test/16_0.6202.h5\n",
            "42/42 [==============================] - 18s 423ms/step - loss: 1.0678 - accuracy: 0.5685 - val_loss: 1.0562 - val_accuracy: 0.6202\n",
            "Epoch 17/70\n",
            "42/42 [==============================] - ETA: 0s - loss: 1.0053 - accuracy: 0.5930\n",
            "Epoch 00017: val_accuracy improved from 0.62021 to 0.63066, saving model to /content/drive/My Drive/Colab Notebooks/checkpoints_test/17_0.6307.h5\n",
            "42/42 [==============================] - 18s 417ms/step - loss: 1.0053 - accuracy: 0.5930 - val_loss: 0.9568 - val_accuracy: 0.6307\n",
            "Epoch 18/70\n",
            "42/42 [==============================] - ETA: 0s - loss: 0.9956 - accuracy: 0.6138\n",
            "Epoch 00018: val_accuracy did not improve from 0.63066\n",
            "42/42 [==============================] - 17s 401ms/step - loss: 0.9956 - accuracy: 0.6138 - val_loss: 1.0539 - val_accuracy: 0.6237\n",
            "Epoch 19/70\n",
            "42/42 [==============================] - ETA: 0s - loss: 0.9667 - accuracy: 0.6198\n",
            "Epoch 00019: val_accuracy improved from 0.63066 to 0.65505, saving model to /content/drive/My Drive/Colab Notebooks/checkpoints_test/19_0.6551.h5\n",
            "42/42 [==============================] - 17s 416ms/step - loss: 0.9667 - accuracy: 0.6198 - val_loss: 0.9246 - val_accuracy: 0.6551\n",
            "Epoch 20/70\n",
            "42/42 [==============================] - ETA: 0s - loss: 0.9300 - accuracy: 0.6391\n",
            "Epoch 00020: val_accuracy did not improve from 0.65505\n",
            "42/42 [==============================] - 17s 405ms/step - loss: 0.9300 - accuracy: 0.6391 - val_loss: 1.1261 - val_accuracy: 0.6063\n",
            "Epoch 21/70\n",
            "42/42 [==============================] - ETA: 0s - loss: 0.9171 - accuracy: 0.6443\n",
            "Epoch 00021: val_accuracy improved from 0.65505 to 0.67247, saving model to /content/drive/My Drive/Colab Notebooks/checkpoints_test/21_0.6725.h5\n",
            "42/42 [==============================] - 18s 420ms/step - loss: 0.9171 - accuracy: 0.6443 - val_loss: 0.8204 - val_accuracy: 0.6725\n",
            "Epoch 22/70\n",
            "42/42 [==============================] - ETA: 0s - loss: 0.8764 - accuracy: 0.6607\n",
            "Epoch 00022: val_accuracy did not improve from 0.67247\n",
            "42/42 [==============================] - 17s 399ms/step - loss: 0.8764 - accuracy: 0.6607 - val_loss: 0.8564 - val_accuracy: 0.6655\n",
            "Epoch 23/70\n",
            "42/42 [==============================] - ETA: 0s - loss: 0.8632 - accuracy: 0.6734\n",
            "Epoch 00023: val_accuracy did not improve from 0.67247\n",
            "42/42 [==============================] - 17s 406ms/step - loss: 0.8632 - accuracy: 0.6734 - val_loss: 0.8430 - val_accuracy: 0.6585\n",
            "Epoch 24/70\n",
            "42/42 [==============================] - ETA: 0s - loss: 0.8402 - accuracy: 0.6674\n",
            "Epoch 00024: val_accuracy did not improve from 0.67247\n",
            "\n",
            "Epoch 00024: ReduceLROnPlateau reducing learning rate to 1.9999999494757505e-06.\n",
            "42/42 [==============================] - 17s 407ms/step - loss: 0.8402 - accuracy: 0.6674 - val_loss: 0.8798 - val_accuracy: 0.6725\n",
            "Epoch 25/70\n",
            "42/42 [==============================] - ETA: 0s - loss: 0.7550 - accuracy: 0.7121\n",
            "Epoch 00025: val_accuracy improved from 0.67247 to 0.68641, saving model to /content/drive/My Drive/Colab Notebooks/checkpoints_test/25_0.6864.h5\n",
            "42/42 [==============================] - 17s 410ms/step - loss: 0.7550 - accuracy: 0.7121 - val_loss: 0.8429 - val_accuracy: 0.6864\n",
            "Epoch 26/70\n",
            "42/42 [==============================] - ETA: 0s - loss: 0.7337 - accuracy: 0.7240\n",
            "Epoch 00026: val_accuracy did not improve from 0.68641\n",
            "42/42 [==============================] - 17s 399ms/step - loss: 0.7337 - accuracy: 0.7240 - val_loss: 0.8381 - val_accuracy: 0.6829\n",
            "Epoch 27/70\n",
            "42/42 [==============================] - ETA: 0s - loss: 0.7137 - accuracy: 0.7351\n",
            "Epoch 00027: val_accuracy improved from 0.68641 to 0.70035, saving model to /content/drive/My Drive/Colab Notebooks/checkpoints_test/27_0.7003.h5\n",
            "42/42 [==============================] - 17s 416ms/step - loss: 0.7137 - accuracy: 0.7351 - val_loss: 0.7828 - val_accuracy: 0.7003\n",
            "Epoch 28/70\n",
            "42/42 [==============================] - ETA: 0s - loss: 0.6823 - accuracy: 0.7448\n",
            "Epoch 00028: val_accuracy did not improve from 0.70035\n",
            "42/42 [==============================] - 17s 401ms/step - loss: 0.6823 - accuracy: 0.7448 - val_loss: 0.8675 - val_accuracy: 0.6899\n",
            "Epoch 29/70\n",
            "42/42 [==============================] - ETA: 0s - loss: 0.6823 - accuracy: 0.7604\n",
            "Epoch 00029: val_accuracy did not improve from 0.70035\n",
            "42/42 [==============================] - 17s 396ms/step - loss: 0.6823 - accuracy: 0.7604 - val_loss: 0.8267 - val_accuracy: 0.6864\n",
            "Epoch 30/70\n",
            "42/42 [==============================] - ETA: 0s - loss: 0.6826 - accuracy: 0.7351\n",
            "Epoch 00030: val_accuracy did not improve from 0.70035\n",
            "\n",
            "Epoch 00030: ReduceLROnPlateau reducing learning rate to 3.999999989900971e-07.\n",
            "42/42 [==============================] - 17s 399ms/step - loss: 0.6826 - accuracy: 0.7351 - val_loss: 0.8124 - val_accuracy: 0.6829\n",
            "Epoch 31/70\n",
            "42/42 [==============================] - ETA: 0s - loss: 0.6476 - accuracy: 0.7634\n",
            "Epoch 00031: val_accuracy did not improve from 0.70035\n",
            "42/42 [==============================] - 17s 399ms/step - loss: 0.6476 - accuracy: 0.7634 - val_loss: 0.8102 - val_accuracy: 0.6934\n",
            "Epoch 32/70\n",
            "42/42 [==============================] - ETA: 0s - loss: 0.6473 - accuracy: 0.7679\n",
            "Epoch 00032: val_accuracy did not improve from 0.70035\n",
            "42/42 [==============================] - 17s 402ms/step - loss: 0.6473 - accuracy: 0.7679 - val_loss: 0.8331 - val_accuracy: 0.6969\n",
            "Epoch 33/70\n",
            "42/42 [==============================] - ETA: 0s - loss: 0.6538 - accuracy: 0.7619\n",
            "Epoch 00033: val_accuracy did not improve from 0.70035\n",
            "\n",
            "Epoch 00033: ReduceLROnPlateau reducing learning rate to 1e-07.\n",
            "Restoring model weights from the end of the best epoch.\n",
            "42/42 [==============================] - 17s 400ms/step - loss: 0.6538 - accuracy: 0.7619 - val_loss: 0.8166 - val_accuracy: 0.6934\n",
            "Epoch 00033: early stopping\n"
          ],
          "name": "stdout"
        }
      ]
    },
    {
      "cell_type": "code",
      "metadata": {
        "id": "qdeluflJpEz0",
        "outputId": "00ed6bd0-dd8b-4c64-b493-e81af5ca5381",
        "colab": {
          "base_uri": "https://localhost:8080/",
          "height": 513
        }
      },
      "source": [
        "# del acc[INITIAL_EPOCH:]\n",
        "# del val_acc[INITIAL_EPOCH:]\n",
        "# del loss[INITIAL_EPOCH:]\n",
        "# del val_loss[INITIAL_EPOCH:]\n",
        "\n",
        "# acc += history_fine.history['accuracy']\n",
        "# val_acc += history_fine.history['val_accuracy']\n",
        "\n",
        "# loss += history_fine.history['loss']\n",
        "# val_loss += history_fine.history['val_loss']\n",
        "\n",
        "\n",
        "plt.figure(figsize=(8, 8))\n",
        "plt.subplot(2, 1, 1)\n",
        "plt.plot(acc, label='Training Accuracy')\n",
        "plt.plot(val_acc, label='Validation Accuracy')\n",
        "plt.ylim([0, 1.0])\n",
        "plt.plot([INITIAL_EPOCH,INITIAL_EPOCH],\n",
        "          plt.ylim(), label='Start Fine Tuning')\n",
        "plt.legend(loc='lower left')\n",
        "plt.title('Training and Validation Accuracy')\n",
        "\n",
        "plt.subplot(2, 1, 2)\n",
        "plt.plot(loss, label='Training Loss')\n",
        "plt.plot(val_loss, label='Validation Loss')\n",
        "plt.ylim([0, 2.0])\n",
        "plt.plot([INITIAL_EPOCH, INITIAL_EPOCH],\n",
        "         plt.ylim(), label='Start Fine Tuning')\n",
        "plt.legend(loc='upper left')\n",
        "plt.title('Training and Validation Loss')\n",
        "plt.xlabel('epoch')\n",
        "plt.show()"
      ],
      "execution_count": null,
      "outputs": [
        {
          "output_type": "display_data",
          "data": {
            "image/png": "[encoded data removed]",
            "text/plain": [
              "<Figure size 576x576 with 2 Axes>"
            ]
          },
          "metadata": {
            "tags": [],
            "needs_background": "light"
          }
        }
      ]
    },
    {
      "cell_type": "code",
      "metadata": {
        "id": "InxL8W_uxBC3",
        "outputId": "baff6753-73e7-4c7a-c15c-67955e6ad041",
        "colab": {
          "base_uri": "https://localhost:8080/"
        }
      },
      "source": [
        "Y_pred = model.predict(test_generator)#, num_of_test_samples // batch_size)\n",
        "y_pred = np.argmax(Y_pred, axis=1)\n",
        "print('Confusion Matrix')\n",
        "print(confusion_matrix(test_generator.classes, y_pred))\n",
        "print('Classification Report')\n",
        "\n",
        "#Mapping class indices to category names\n",
        "labels = []\n",
        "dict = (test_generator.class_indices)\n",
        "\n",
        "for key, value in dict.items():\n",
        "   labels.append(key)\n",
        "\n",
        "\n",
        "print(classification_report(test_generator.classes, y_pred, target_names=labels))"
      ],
      "execution_count": null,
      "outputs": [
        {
          "output_type": "stream",
          "text": [
            "Confusion Matrix\n",
            "[[68  8  6 14]\n",
            " [10 64  5  2]\n",
            " [ 7 10 29  3]\n",
            " [13  6  3 43]]\n",
            "Classification Report\n",
            "              precision    recall  f1-score   support\n",
            "\n",
            "   Farmhouse       0.69      0.71      0.70        96\n",
            "  Industrial       0.73      0.79      0.76        81\n",
            "  Midcentury       0.67      0.59      0.63        49\n",
            "    Tropical       0.69      0.66      0.68        65\n",
            "\n",
            "    accuracy                           0.70       291\n",
            "   macro avg       0.70      0.69      0.69       291\n",
            "weighted avg       0.70      0.70      0.70       291\n",
            "\n"
          ],
          "name": "stdout"
        }
      ]
    },
    {
      "cell_type": "code",
      "metadata": {
        "id": "nAVL8brryysv"
      },
      "source": [
        "model.save('/content/drive/My Drive/DS_projects/chair_classifier/model_chair_classifier_finetuned_v1.h5')\n"
      ],
      "execution_count": null,
      "outputs": []
    },
    {
      "cell_type": "markdown",
      "metadata": {
        "id": "W_QnJTcdJiFi"
      },
      "source": [
        "TESTING!"
      ]
    },
    {
      "cell_type": "code",
      "metadata": {
        "id": "_YLCkiX_NAZG"
      },
      "source": [
        "#TEST\n",
        "from google.colab import drive\n",
        "drive.mount('/content/drive')\n",
        "\n",
        "from keras.models import load_model\n",
        "from keras.preprocessing import image\n",
        "from skimage.io import imread\n",
        "from skimage.transform import rescale, resize\n",
        "import numpy as np\n",
        "import matplotlib.pyplot as plt\n",
        "\n",
        "\n",
        "model_trained = load_model('/content/drive/My Drive/DS_projects/chair_classifier/model_chair_classifier_finetuned_v1.h5')\n",
        "\n",
        "\n",
        "\n"
      ],
      "execution_count": null,
      "outputs": []
    },
    {
      "cell_type": "code",
      "metadata": {
        "id": "1THfCBFcWRnv",
        "outputId": "328b7efc-2c22-4c01-f626-0f6ad3817994",
        "colab": {
          "base_uri": "https://localhost:8080/",
          "height": 354
        }
      },
      "source": [
        "\n",
        "url = input('Enter your URL')\n",
        "img = imread(url)\n",
        "plt.imshow(img)\n",
        "\n",
        "\n",
        "img_resized = resize(img,(224,224,3))\n",
        "img_batch = np.expand_dims(img_resized,axis=0)\n",
        "prediction_prob_array = model_trained.predict(img_batch)\n",
        "prob_flat = prediction_prob_array.flatten()\n",
        "prob_index_ranked = prob_flat.argsort(axis=-1)[::-1]\n",
        "labels = [\"Farmhouse\", \"Industrial\", \"Midcentury\",\"Tropical\"]\n",
        "\n",
        "for i in range(len(prob_index_ranked)):\n",
        "  j = prob_index_ranked[i]\n",
        "  print (labels[j] , \"%2.2f%%\" %(prob_flat[j]*100)) \n"
      ],
      "execution_count": 2,
      "outputs": [
        {
          "output_type": "stream",
          "text": [
            "Enter your URLhttps://grandrapidschair.com/wp-content/uploads/2016/01/250_Brady_Graphite_Honey-1-682x1024.jpg\n",
            "Industrial 81.10%\n",
            "Midcentury 11.59%\n",
            "Tropical 4.16%\n",
            "Farmhouse 3.16%\n"
          ],
          "name": "stdout"
        },
        {
          "output_type": "display_data",
          "data": {
            "image/png": "[encoded data removed]",
            "text/plain": [
              "<Figure size 432x288 with 1 Axes>"
            ]
          },
          "metadata": {
            "tags": [],
            "needs_background": "light"
          }
        }
      ]
    }
  ]
}