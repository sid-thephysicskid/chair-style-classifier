{
  "nbformat": 4,
  "nbformat_minor": 0,
  "metadata": {
    "colab": {
      "name": "classification_chair.ipynb",
      "provenance": [],
      "collapsed_sections": [],
      "authorship_tag": "ABX9TyMJSs85TXV13ffSqdMPL5oL",
      "include_colab_link": true
    },
    "kernelspec": {
      "name": "python3",
      "display_name": "Python 3"
    },
    "accelerator": "GPU"
  },
  "cells": [
    {
      "cell_type": "markdown",
      "metadata": {
        "id": "view-in-github",
        "colab_type": "text"
      },
      "source": [
        "<a href=\"https://colab.research.google.com/github/who-knows-its-nebulose/Chair_Style_classifier/blob/main/classification_chair.ipynb\" target=\"_parent\"><img src=\"https://colab.research.google.com/assets/colab-badge.svg\" alt=\"Open In Colab\"/></a>"
      ]
    },
    {
      "cell_type": "code",
      "metadata": {
        "id": "nfTHhFUaiJtr"
      },
      "source": [
        ""
      ],
      "execution_count": null,
      "outputs": []
    },
    {
      "cell_type": "code",
      "metadata": {
        "id": "c99EvWo1s9-x",
        "outputId": "31a63045-9e45-4b0e-8776-c4eac0419295",
        "colab": {
          "base_uri": "https://localhost:8080/"
        }
      },
      "source": [
        "# Load the Drive helper and mount\n",
        "from google.colab import drive\n",
        "\n",
        "# This will prompt for authorization.\n",
        "drive.mount('/content/drive')"
      ],
      "execution_count": 1,
      "outputs": [
        {
          "output_type": "stream",
          "text": [
            "Drive already mounted at /content/drive; to attempt to forcibly remount, call drive.mount(\"/content/drive\", force_remount=True).\n"
          ],
          "name": "stdout"
        }
      ]
    },
    {
      "cell_type": "code",
      "metadata": {
        "id": "n8ClZBHniXn7",
        "outputId": "77fd3374-094c-4136-b4e8-0fe3d96f3d4c",
        "colab": {
          "base_uri": "https://localhost:8080/"
        }
      },
      "source": [
        "ls \"/content/drive/My Drive/Colab Notebooks\""
      ],
      "execution_count": 2,
      "outputs": [
        {
          "output_type": "stream",
          "text": [
            "\u001b[0m\u001b[01;34mchairs\u001b[0m/                     Classificaton_finetune.ipynb  Untitled1.ipynb\n",
            "classification_chair.ipynb  Untitled0.ipynb\n"
          ],
          "name": "stdout"
        }
      ]
    },
    {
      "cell_type": "code",
      "metadata": {
        "id": "ObZIQifPTRsl"
      },
      "source": [
        "import os\n",
        "os.environ[\"TF_CPP_MIN_LOG_LEVEL\"] = \"2\"\n",
        "import matplotlib.pyplot as plt\n",
        "import numpy as np\n",
        "import tensorflow as tf\n",
        "from tensorflow import keras\n",
        "from tensorflow.keras import layers\n",
        "from tensorflow.keras.preprocessing.image import ImageDataGenerator\n",
        "from tensorflow.keras.layers.experimental import preprocessing\n",
        "from tensorflow.keras.models import Sequential\n",
        "\n",
        "img_height = 224\n",
        "img_width = 224\n",
        "batch_size = 16\n",
        "\n"
      ],
      "execution_count": 3,
      "outputs": []
    },
    {
      "cell_type": "code",
      "metadata": {
        "id": "XlW8nGkParIs",
        "outputId": "6ab747a1-35a6-4786-a9ee-36bbaf4f23a9",
        "colab": {
          "base_uri": "https://localhost:8080/"
        }
      },
      "source": [
        "ds_train = tf.keras.preprocessing.image_dataset_from_directory(\n",
        "    '/content/drive/My Drive/Colab Notebooks/chairs/',\n",
        "    labels = 'inferred',\n",
        "    label_mode = \"categorical\",\n",
        "    class_names = [\"Farmhouse\", \"Industrial\", \"Midcentury\",\"Tropical\",\"Victorian\"],\n",
        "    color_mode = 'rgb',\n",
        "    batch_size = batch_size,\n",
        "    image_size = (img_height, img_width),\n",
        "    shuffle = True, #(why?)\n",
        "    seed = 123,\n",
        "    validation_split = 0.2,\n",
        "    subset = \"training\",\n",
        ")\n",
        "\n",
        "ds_valid = tf.keras.preprocessing.image_dataset_from_directory(\n",
        "    '/content/drive/My Drive/Colab Notebooks/chairs/',\n",
        "    labels = 'inferred',\n",
        "    label_mode = \"categorical\",\n",
        "    class_names= [\"Farmhouse\", \"Industrial\", \"Midcentury\",\"Tropical\",\"Victorian\"],\n",
        "    color_mode = 'rgb',\n",
        "    batch_size = batch_size,\n",
        "    image_size = (img_height, img_width),\n",
        "    shuffle = True, #(why?)\n",
        "    seed = 123,\n",
        "    validation_split = 0.2,\n",
        "    subset = \"validation\",\n",
        ")\n",
        "\n",
        "\n",
        "  "
      ],
      "execution_count": 4,
      "outputs": [
        {
          "output_type": "stream",
          "text": [
            "Found 1705 files belonging to 5 classes.\n",
            "Using 1364 files for training.\n",
            "Found 1705 files belonging to 5 classes.\n",
            "Using 341 files for validation.\n"
          ],
          "name": "stdout"
        }
      ]
    },
    {
      "cell_type": "code",
      "metadata": {
        "id": "dm9wAvrv6zOO",
        "outputId": "d518441f-1913-4881-b22d-26ce99343e72",
        "colab": {
          "base_uri": "https://localhost:8080/"
        }
      },
      "source": [
        "class_names = ds_train.class_names\n",
        "print(class_names)"
      ],
      "execution_count": 5,
      "outputs": [
        {
          "output_type": "stream",
          "text": [
            "['Farmhouse', 'Industrial', 'Midcentury', 'Tropical', 'Victorian']\n"
          ],
          "name": "stdout"
        }
      ]
    },
    {
      "cell_type": "code",
      "metadata": {
        "id": "HSiCVIuEamjj"
      },
      "source": [
        "#look at the dataset\n",
        "\n",
        "# plt.figure(figsize=(10, 10))\n",
        "# for images, labels in ds_train.take(1):\n",
        "#   for i in range(16):\n",
        "#     ax = plt.subplot(4, 4, i + 1)\n",
        "#     plt.imshow(np.squeeze(images[i].numpy().astype(\"uint8\")))\n",
        "#     int_labels = np.argmax(labels, axis=-1)\n",
        "#     plt.title(class_names[int_labels[i]])\n",
        "#     plt.axis(\"off\")"
      ],
      "execution_count": 6,
      "outputs": []
    },
    {
      "cell_type": "markdown",
      "metadata": {
        "id": "qG1Ww02Y32ut"
      },
      "source": [
        "Augment and rescale"
      ]
    },
    {
      "cell_type": "code",
      "metadata": {
        "id": "Pb1g6sUfTK-f"
      },
      "source": [
        "from tensorflow.keras.layers.experimental import preprocessing\n",
        "from tensorflow.keras.models import Sequential\n",
        "IMG_SIZE = 224\n",
        "\n",
        "# resize_and_rescale = tf.keras.Sequential([\n",
        "#   layers.experimental.preprocessing.Resizing(IMG_SIZE, IMG_SIZE),\n",
        "#   layers.experimental.preprocessing.Rescaling(1./255)\n",
        "# ])\n",
        "\n",
        "img_augmentation = keras.Sequential(\n",
        "  [\n",
        "    layers.experimental.preprocessing.RandomFlip(\"horizontal\", \n",
        "                                                 input_shape=(img_height, \n",
        "                                                              img_width,\n",
        "                                                              3)),\n",
        "    layers.experimental.preprocessing.RandomRotation(0.1),\n",
        "    layers.experimental.preprocessing.RandomZoom(0.1),\n",
        "  ]\n",
        ")\n",
        "\n",
        "preprocess_input = tf.keras.applications.mobilenet_v2.preprocess_input\n",
        "rescale = tf.keras.layers.experimental.preprocessing.Rescaling(1./127.5, offset= -1)\n",
        "\n",
        "#set buffer_size to AUTOTUNE\n",
        "AUTOTUNE = tf.data.experimental.AUTOTUNE\n",
        "\n",
        "# ds_train = prepare(ds_train, shuffle=True, augment=True)\n",
        "# ds_valid = prepare(ds_valid)\n",
        "\n",
        "base_model = tf.keras.applications.MobileNetV2(input_shape=(img_height, \n",
        "                                                           img_width,\n",
        "                                                              3),\n",
        "                                               include_top=False,\n",
        "                                               weights='imagenet')\n",
        "\n",
        "image_batch, label_batch = next(iter(ds_train))\n",
        "feature_batch = base_model(image_batch)\n",
        "print(feature_batch.shape)\n",
        "\n",
        "base_model.trainable = False\n",
        "base_model.summary()\n",
        "\n",
        "global_average_layer = tf.keras.layers.GlobalAveragePooling2D()\n",
        "feature_batch_average = global_average_layer(feature_batch)\n",
        "print(feature_batch_average.shape)\n",
        "\n",
        "prediction_layer = tf.keras.layers.Dense(5, activation='softmax')\n",
        "\n",
        "prediction_batch = prediction_layer(feature_batch_average)\n",
        "print(prediction_batch.shape)\n",
        "\n",
        "inputs = tf.keras.Input(shape=(img_height, img_width, 3))\n",
        "x = img_augmentation(inputs)\n",
        "x = preprocess_input(x)\n",
        "x = base_model(x, training=False)\n",
        "x = global_average_layer(x)\n",
        "x = tf.keras.layers.Dropout(0.2)(x)\n",
        "outputs = prediction_layer(x)\n",
        "model = tf.keras.Model(inputs, outputs)\n",
        "\n",
        "model.compile(optimizer = tf.keras.optimizers.Adam(learning_rate=0.0001),\n",
        "              loss = 'categorical_crossentropy',\n",
        "              metrics = ['accuracy']\n",
        "              )\n",
        "\n",
        "model.summary()\n"
      ],
      "execution_count": null,
      "outputs": []
    },
    {
      "cell_type": "code",
      "metadata": {
        "id": "jFCaY3LrA00J"
      },
      "source": [
        "# for image, label in ds_train.take(1):\n",
        "#     for i in range(9):\n",
        "#         ax = plt.subplot(3, 3, i + 1)\n",
        "#         #aug_img = img_augmentation(image)\n",
        "#         aug_image = img_augmentation(tf.expand_dims(image[0], axis=0))\n",
        "#         plt.imshow(aug_image[0]/255)\n",
        "# #        plt.title(int(labels[i]))\n",
        "# #       plt.title(\"{}\".format(format_label(label)))\n",
        "#         plt.axis(\"off\")"
      ],
      "execution_count": 8,
      "outputs": []
    },
    {
      "cell_type": "markdown",
      "metadata": {
        "id": "IyYNZtpBJIpt"
      },
      "source": [
        "PREFETCH"
      ]
    },
    {
      "cell_type": "code",
      "metadata": {
        "id": "0vzk8QfCjIMr",
        "outputId": "33a475c4-9b44-41cc-b021-19d163fd1d0a",
        "colab": {
          "base_uri": "https://localhost:8080/"
        }
      },
      "source": [
        "ds_train = ds_train.prefetch(buffer_size=AUTOTUNE) \n",
        "ds_valid = ds_valid.prefetch(buffer_size=AUTOTUNE)\n",
        "\n",
        "len(model.trainable_variables)\n",
        "\n"
      ],
      "execution_count": 9,
      "outputs": [
        {
          "output_type": "execute_result",
          "data": {
            "text/plain": [
              "2"
            ]
          },
          "metadata": {
            "tags": []
          },
          "execution_count": 9
        }
      ]
    },
    {
      "cell_type": "code",
      "metadata": {
        "id": "XU-P0AmcD2Ln",
        "outputId": "19d10f8a-61c1-40dc-bb0c-941ee4f5563c",
        "colab": {
          "base_uri": "https://localhost:8080/",
          "height": 1000
        }
      },
      "source": [
        "history = model.fit(ds_train,\n",
        "                    epochs=50,\n",
        "                    validation_data=ds_valid)\n",
        "\n",
        "acc = history.history['accuracy']\n",
        "val_acc = history.history['val_accuracy']\n",
        "\n",
        "loss = history.history['loss']\n",
        "val_loss = history.history['val_loss']\n",
        "\n"
      ],
      "execution_count": 10,
      "outputs": [
        {
          "output_type": "stream",
          "text": [
            "Epoch 1/50\n",
            "86/86 [==============================] - 7s 77ms/step - loss: 1.7843 - accuracy: 0.2683 - val_loss: 1.5338 - val_accuracy: 0.2991\n",
            "Epoch 2/50\n",
            "86/86 [==============================] - 6s 66ms/step - loss: 1.4797 - accuracy: 0.3688 - val_loss: 1.3667 - val_accuracy: 0.4311\n",
            "Epoch 3/50\n",
            "86/86 [==============================] - 6s 66ms/step - loss: 1.3097 - accuracy: 0.4619 - val_loss: 1.2259 - val_accuracy: 0.5484\n",
            "Epoch 4/50\n",
            "86/86 [==============================] - 6s 71ms/step - loss: 1.1774 - accuracy: 0.5286 - val_loss: 1.1389 - val_accuracy: 0.6129\n",
            "Epoch 5/50\n",
            "86/86 [==============================] - 6s 68ms/step - loss: 1.0745 - accuracy: 0.5850 - val_loss: 1.0746 - val_accuracy: 0.6452\n",
            "Epoch 6/50\n",
            "86/86 [==============================] - 6s 65ms/step - loss: 0.9744 - accuracy: 0.6393 - val_loss: 1.0085 - val_accuracy: 0.6716\n",
            "Epoch 7/50\n",
            "86/86 [==============================] - 6s 66ms/step - loss: 0.9314 - accuracy: 0.6547 - val_loss: 0.9643 - val_accuracy: 0.6833\n",
            "Epoch 8/50\n",
            "86/86 [==============================] - 6s 65ms/step - loss: 0.8890 - accuracy: 0.6870 - val_loss: 0.9363 - val_accuracy: 0.6950\n",
            "Epoch 9/50\n",
            "86/86 [==============================] - 6s 66ms/step - loss: 0.8569 - accuracy: 0.6840 - val_loss: 0.9004 - val_accuracy: 0.7097\n",
            "Epoch 10/50\n",
            "86/86 [==============================] - 6s 67ms/step - loss: 0.8418 - accuracy: 0.6950 - val_loss: 0.8849 - val_accuracy: 0.7126\n",
            "Epoch 11/50\n",
            "86/86 [==============================] - 6s 65ms/step - loss: 0.7755 - accuracy: 0.7221 - val_loss: 0.8566 - val_accuracy: 0.7302\n",
            "Epoch 12/50\n",
            "86/86 [==============================] - 6s 65ms/step - loss: 0.7606 - accuracy: 0.7339 - val_loss: 0.8366 - val_accuracy: 0.7478\n",
            "Epoch 13/50\n",
            "86/86 [==============================] - 6s 65ms/step - loss: 0.7436 - accuracy: 0.7273 - val_loss: 0.8295 - val_accuracy: 0.7537\n",
            "Epoch 14/50\n",
            "86/86 [==============================] - 6s 65ms/step - loss: 0.7264 - accuracy: 0.7427 - val_loss: 0.8096 - val_accuracy: 0.7507\n",
            "Epoch 15/50\n",
            "86/86 [==============================] - 6s 64ms/step - loss: 0.6972 - accuracy: 0.7507 - val_loss: 0.7970 - val_accuracy: 0.7537\n",
            "Epoch 16/50\n",
            "86/86 [==============================] - 6s 65ms/step - loss: 0.7009 - accuracy: 0.7456 - val_loss: 0.7836 - val_accuracy: 0.7625\n",
            "Epoch 17/50\n",
            "86/86 [==============================] - 6s 65ms/step - loss: 0.6836 - accuracy: 0.7456 - val_loss: 0.7735 - val_accuracy: 0.7625\n",
            "Epoch 18/50\n",
            "86/86 [==============================] - 6s 64ms/step - loss: 0.6651 - accuracy: 0.7676 - val_loss: 0.7638 - val_accuracy: 0.7654\n",
            "Epoch 19/50\n",
            "86/86 [==============================] - 6s 65ms/step - loss: 0.6573 - accuracy: 0.7779 - val_loss: 0.7555 - val_accuracy: 0.7654\n",
            "Epoch 20/50\n",
            "86/86 [==============================] - 6s 67ms/step - loss: 0.6411 - accuracy: 0.7661 - val_loss: 0.7511 - val_accuracy: 0.7654\n",
            "Epoch 21/50\n",
            "86/86 [==============================] - 6s 66ms/step - loss: 0.6497 - accuracy: 0.7735 - val_loss: 0.7404 - val_accuracy: 0.7713\n",
            "Epoch 22/50\n",
            "86/86 [==============================] - 6s 66ms/step - loss: 0.6344 - accuracy: 0.7823 - val_loss: 0.7348 - val_accuracy: 0.7713\n",
            "Epoch 23/50\n",
            "86/86 [==============================] - 6s 67ms/step - loss: 0.6321 - accuracy: 0.7815 - val_loss: 0.7274 - val_accuracy: 0.7713\n",
            "Epoch 24/50\n",
            "86/86 [==============================] - 6s 66ms/step - loss: 0.6199 - accuracy: 0.7837 - val_loss: 0.7233 - val_accuracy: 0.7742\n",
            "Epoch 25/50\n",
            "86/86 [==============================] - 6s 67ms/step - loss: 0.5939 - accuracy: 0.7859 - val_loss: 0.7181 - val_accuracy: 0.7713\n",
            "Epoch 26/50\n",
            "86/86 [==============================] - 6s 66ms/step - loss: 0.5871 - accuracy: 0.8079 - val_loss: 0.7128 - val_accuracy: 0.7654\n",
            "Epoch 27/50\n",
            "86/86 [==============================] - 6s 68ms/step - loss: 0.5860 - accuracy: 0.7925 - val_loss: 0.7105 - val_accuracy: 0.7713\n",
            "Epoch 28/50\n",
            "86/86 [==============================] - 6s 67ms/step - loss: 0.5628 - accuracy: 0.8109 - val_loss: 0.7020 - val_accuracy: 0.7771\n",
            "Epoch 29/50\n",
            "86/86 [==============================] - 6s 64ms/step - loss: 0.5620 - accuracy: 0.8035 - val_loss: 0.7029 - val_accuracy: 0.7742\n",
            "Epoch 30/50\n",
            "86/86 [==============================] - 6s 66ms/step - loss: 0.5731 - accuracy: 0.8057 - val_loss: 0.6963 - val_accuracy: 0.7771\n",
            "Epoch 31/50\n",
            "86/86 [==============================] - 6s 65ms/step - loss: 0.5744 - accuracy: 0.7911 - val_loss: 0.6922 - val_accuracy: 0.7713\n",
            "Epoch 32/50\n",
            "86/86 [==============================] - 6s 65ms/step - loss: 0.5475 - accuracy: 0.8116 - val_loss: 0.6861 - val_accuracy: 0.7713\n",
            "Epoch 33/50\n",
            "86/86 [==============================] - 6s 64ms/step - loss: 0.5664 - accuracy: 0.8050 - val_loss: 0.6880 - val_accuracy: 0.7742\n",
            "Epoch 34/50\n",
            "86/86 [==============================] - 5s 64ms/step - loss: 0.5312 - accuracy: 0.8138 - val_loss: 0.6768 - val_accuracy: 0.7801\n",
            "Epoch 35/50\n",
            "86/86 [==============================] - 6s 64ms/step - loss: 0.5453 - accuracy: 0.8050 - val_loss: 0.6784 - val_accuracy: 0.7771\n",
            "Epoch 36/50\n",
            "86/86 [==============================] - 6s 66ms/step - loss: 0.5420 - accuracy: 0.7999 - val_loss: 0.6734 - val_accuracy: 0.7683\n",
            "Epoch 37/50\n",
            "86/86 [==============================] - 6s 65ms/step - loss: 0.5312 - accuracy: 0.8109 - val_loss: 0.6756 - val_accuracy: 0.7683\n",
            "Epoch 38/50\n",
            "86/86 [==============================] - 6s 66ms/step - loss: 0.5318 - accuracy: 0.8094 - val_loss: 0.6745 - val_accuracy: 0.7713\n",
            "Epoch 39/50\n",
            "86/86 [==============================] - 6s 64ms/step - loss: 0.5228 - accuracy: 0.8152 - val_loss: 0.6689 - val_accuracy: 0.7713\n",
            "Epoch 40/50\n",
            "86/86 [==============================] - 5s 63ms/step - loss: 0.5127 - accuracy: 0.8248 - val_loss: 0.6648 - val_accuracy: 0.7771\n",
            "Epoch 41/50\n",
            "86/86 [==============================] - 6s 64ms/step - loss: 0.5155 - accuracy: 0.8240 - val_loss: 0.6617 - val_accuracy: 0.7713\n",
            "Epoch 42/50\n",
            "86/86 [==============================] - 5s 64ms/step - loss: 0.4968 - accuracy: 0.8270 - val_loss: 0.6586 - val_accuracy: 0.7801\n",
            "Epoch 43/50\n",
            "86/86 [==============================] - 6s 65ms/step - loss: 0.4947 - accuracy: 0.8387 - val_loss: 0.6577 - val_accuracy: 0.7771\n",
            "Epoch 44/50\n",
            "86/86 [==============================] - 5s 64ms/step - loss: 0.5180 - accuracy: 0.8233 - val_loss: 0.6611 - val_accuracy: 0.7771\n",
            "Epoch 45/50\n",
            "86/86 [==============================] - 5s 63ms/step - loss: 0.5006 - accuracy: 0.8284 - val_loss: 0.6581 - val_accuracy: 0.7801\n",
            "Epoch 46/50\n",
            "86/86 [==============================] - 5s 63ms/step - loss: 0.4954 - accuracy: 0.8240 - val_loss: 0.6610 - val_accuracy: 0.7801\n",
            "Epoch 47/50\n",
            "86/86 [==============================] - 6s 64ms/step - loss: 0.4938 - accuracy: 0.8328 - val_loss: 0.6527 - val_accuracy: 0.7830\n",
            "Epoch 48/50\n",
            "86/86 [==============================] - 6s 64ms/step - loss: 0.5004 - accuracy: 0.8233 - val_loss: 0.6498 - val_accuracy: 0.7801\n",
            "Epoch 49/50\n",
            "86/86 [==============================] - 6s 65ms/step - loss: 0.4843 - accuracy: 0.8350 - val_loss: 0.6441 - val_accuracy: 0.7859\n",
            "Epoch 50/50\n",
            "86/86 [==============================] - 6s 64ms/step - loss: 0.4924 - accuracy: 0.8255 - val_loss: 0.6450 - val_accuracy: 0.7801\n"
          ],
          "name": "stdout"
        },
        {
          "output_type": "display_data",
          "data": {
            "image/png": "[encoded data removed]",
            "text/plain": [
              "<Figure size 576x576 with 2 Axes>"
            ]
          },
          "metadata": {
            "tags": [],
            "needs_background": "light"
          }
        }
      ]
    },
    {
      "cell_type": "code",
      "metadata": {
        "id": "w1bPSxWvHCA5",
        "outputId": "e4650456-1b05-4469-b342-3493fd193af9",
        "colab": {
          "base_uri": "https://localhost:8080/",
          "height": 513
        }
      },
      "source": [
        "plt.figure(figsize=(8, 8))\n",
        "plt.subplot(2, 1, 1)\n",
        "plt.plot(acc, label='Training Accuracy')\n",
        "plt.plot(val_acc, label='Validation Accuracy')\n",
        "plt.legend(loc='lower right')\n",
        "plt.ylabel('Accuracy')\n",
        "plt.ylim([min(plt.ylim()),1])\n",
        "plt.title('Training and Validation Accuracy')\n",
        "\n",
        "plt.subplot(2, 1, 2)\n",
        "plt.plot(loss, label='Training Loss')\n",
        "plt.plot(val_loss, label='Validation Loss')\n",
        "plt.legend(loc='upper right')\n",
        "plt.ylabel('Cross Entropy')\n",
        "plt.ylim([0,2.0])\n",
        "plt.title('Training and Validation Loss')\n",
        "plt.xlabel('epoch')\n",
        "plt.show()"
      ],
      "execution_count": 19,
      "outputs": [
        {
          "output_type": "display_data",
          "data": {
            "image/png": "[encoded data removed]",
            "text/plain": [
              "<Figure size 576x576 with 2 Axes>"
            ]
          },
          "metadata": {
            "tags": [],
            "needs_background": "light"
          }
        }
      ]
    },
    {
      "cell_type": "markdown",
      "metadata": {
        "id": "R15-hqw9IqwM"
      },
      "source": [
        "fine tune to see if it can improve"
      ]
    },
    {
      "cell_type": "code",
      "metadata": {
        "id": "jQjhPSuZIhTO",
        "outputId": "615b3855-c649-4977-9f82-1790569a5588",
        "colab": {
          "base_uri": "https://localhost:8080/"
        }
      },
      "source": [
        "base_model.trainable = True\n",
        "\n",
        "# Let's take a look to see how many layers are in the base model\n",
        "print(\"Number of layers in the base model: \", len(base_model.layers))\n",
        "\n",
        "# Fine-tune from this layer onwards\n",
        "fine_tune_at = 100\n",
        "\n",
        "# Freeze all the layers before the `fine_tune_at` layer\n",
        "for layer in base_model.layers[:fine_tune_at]:\n",
        "  layer.trainable =  False\n",
        "\n",
        "base_learning_rate = 0.0001\n",
        "\n",
        "model.compile(optimizer = tf.keras.optimizers.Adam(learning_rate=base_learning_rate/10),\n",
        "              loss = 'categorical_crossentropy',\n",
        "              metrics = ['accuracy']\n",
        "              )\n",
        "model.summary()\n",
        "\n",
        "len(model.trainable_variables)"
      ],
      "execution_count": 22,
      "outputs": [
        {
          "output_type": "stream",
          "text": [
            "Number of layers in the base model:  155\n",
            "Model: \"functional_1\"\n",
            "_________________________________________________________________\n",
            "Layer (type)                 Output Shape              Param #   \n",
            "=================================================================\n",
            "input_2 (InputLayer)         [(None, 224, 224, 3)]     0         \n",
            "_________________________________________________________________\n",
            "sequential (Sequential)      (None, 224, 224, 3)       0         \n",
            "_________________________________________________________________\n",
            "tf_op_layer_RealDiv (TensorF [(None, 224, 224, 3)]     0         \n",
            "_________________________________________________________________\n",
            "tf_op_layer_Sub (TensorFlowO [(None, 224, 224, 3)]     0         \n",
            "_________________________________________________________________\n",
            "mobilenetv2_1.00_224 (Functi (None, 7, 7, 1280)        2257984   \n",
            "_________________________________________________________________\n",
            "global_average_pooling2d (Gl (None, 1280)              0         \n",
            "_________________________________________________________________\n",
            "dropout (Dropout)            (None, 1280)              0         \n",
            "_________________________________________________________________\n",
            "dense (Dense)                (None, 5)                 6405      \n",
            "=================================================================\n",
            "Total params: 2,264,389\n",
            "Trainable params: 1,868,997\n",
            "Non-trainable params: 395,392\n",
            "_________________________________________________________________\n"
          ],
          "name": "stdout"
        },
        {
          "output_type": "execute_result",
          "data": {
            "text/plain": [
              "58"
            ]
          },
          "metadata": {
            "tags": []
          },
          "execution_count": 22
        }
      ]
    },
    {
      "cell_type": "code",
      "metadata": {
        "id": "7DmKPSufIhRd",
        "outputId": "74ed782e-4ce7-41e8-fb08-d3251c40cbda",
        "colab": {
          "base_uri": "https://localhost:8080/"
        }
      },
      "source": [
        "fine_tune_epochs = 10\n",
        "total_epochs =  50 + fine_tune_epochs\n",
        "\n",
        "history_fine = model.fit(ds_train,\n",
        "                         epochs=total_epochs,\n",
        "                         initial_epoch=history.epoch[-1],\n",
        "                         validation_data=ds_valid)"
      ],
      "execution_count": 23,
      "outputs": [
        {
          "output_type": "stream",
          "text": [
            "Epoch 50/60\n",
            "86/86 [==============================] - 7s 83ms/step - loss: 0.3884 - accuracy: 0.8695 - val_loss: 0.5776 - val_accuracy: 0.8358\n",
            "Epoch 51/60\n",
            "86/86 [==============================] - 6s 75ms/step - loss: 0.3224 - accuracy: 0.8834 - val_loss: 0.6290 - val_accuracy: 0.8152\n",
            "Epoch 52/60\n",
            "86/86 [==============================] - 7s 76ms/step - loss: 0.3030 - accuracy: 0.8893 - val_loss: 0.6725 - val_accuracy: 0.8240\n",
            "Epoch 53/60\n",
            "86/86 [==============================] - 6s 75ms/step - loss: 0.2820 - accuracy: 0.8974 - val_loss: 0.5939 - val_accuracy: 0.8299\n",
            "Epoch 54/60\n",
            "86/86 [==============================] - 6s 75ms/step - loss: 0.2843 - accuracy: 0.8996 - val_loss: 0.5787 - val_accuracy: 0.8299\n",
            "Epoch 55/60\n",
            "86/86 [==============================] - 6s 75ms/step - loss: 0.2464 - accuracy: 0.9098 - val_loss: 0.5939 - val_accuracy: 0.8328\n",
            "Epoch 56/60\n",
            "86/86 [==============================] - 6s 75ms/step - loss: 0.2465 - accuracy: 0.9091 - val_loss: 0.5814 - val_accuracy: 0.8358\n",
            "Epoch 57/60\n",
            "86/86 [==============================] - 6s 75ms/step - loss: 0.2119 - accuracy: 0.9201 - val_loss: 0.6499 - val_accuracy: 0.8240\n",
            "Epoch 58/60\n",
            "86/86 [==============================] - 6s 76ms/step - loss: 0.1932 - accuracy: 0.9391 - val_loss: 0.5882 - val_accuracy: 0.8475\n",
            "Epoch 59/60\n",
            "86/86 [==============================] - 6s 75ms/step - loss: 0.1838 - accuracy: 0.9333 - val_loss: 0.5937 - val_accuracy: 0.8534\n",
            "Epoch 60/60\n",
            "86/86 [==============================] - 6s 75ms/step - loss: 0.1942 - accuracy: 0.9399 - val_loss: 0.5803 - val_accuracy: 0.8475\n"
          ],
          "name": "stdout"
        }
      ]
    },
    {
      "cell_type": "code",
      "metadata": {
        "id": "pD8l_aPFKnmr"
      },
      "source": [
        "acc += history_fine.history['accuracy']\n",
        "val_acc += history_fine.history['val_accuracy']\n",
        "\n",
        "loss += history_fine.history['loss']\n",
        "val_loss += history_fine.history['val_loss']\n",
        "\n"
      ],
      "execution_count": 24,
      "outputs": []
    },
    {
      "cell_type": "code",
      "metadata": {
        "id": "cU8FiCYNKpWS",
        "outputId": "c1787287-796a-48f0-820c-4643209cd689",
        "colab": {
          "base_uri": "https://localhost:8080/",
          "height": 513
        }
      },
      "source": [
        "initial_epochs = 50\n",
        "\n",
        "plt.figure(figsize=(8, 8))\n",
        "plt.subplot(2, 1, 1)\n",
        "plt.plot(acc, label='Training Accuracy')\n",
        "plt.plot(val_acc, label='Validation Accuracy')\n",
        "plt.ylim([0.8, 1])\n",
        "plt.plot([initial_epochs-1,initial_epochs-1],\n",
        "          plt.ylim(), label='Start Fine Tuning')\n",
        "plt.legend(loc='lower right')\n",
        "plt.title('Training and Validation Accuracy')\n",
        "\n",
        "plt.subplot(2, 1, 2)\n",
        "plt.plot(loss, label='Training Loss')\n",
        "plt.plot(val_loss, label='Validation Loss')\n",
        "plt.ylim([0, 1.0])\n",
        "plt.plot([initial_epochs-1,initial_epochs-1],\n",
        "         plt.ylim(), label='Start Fine Tuning')\n",
        "plt.legend(loc='upper right')\n",
        "plt.title('Training and Validation Loss')\n",
        "plt.xlabel('epoch')\n",
        "plt.show()"
      ],
      "execution_count": 26,
      "outputs": [
        {
          "output_type": "display_data",
          "data": {
            "image/png": "[encoded data removed]",
            "text/plain": [
              "<Figure size 576x576 with 2 Axes>"
            ]
          },
          "metadata": {
            "tags": [],
            "needs_background": "light"
          }
        }
      ]
    },
    {
      "cell_type": "markdown",
      "metadata": {
        "id": "dk2YeDL6JLw0"
      },
      "source": [
        "1) mobilenet v2, just add one dense layerlike in furniture dataset github:\n",
        "\n",
        "# Model\n",
        "kernel_initializer = tf.keras.initializers.glorot_uniform(seed=1337)\n",
        "trained_model = tf.keras.applications.mobilenet_v2.MobileNetV2(\n",
        "                      include_top=False,\n",
        "                      weights='imagenet',\n",
        "                      alpha=0.5,\n",
        "                      input_shape=[224, 224, 3],\n",
        "                      pooling='max')\n",
        "output = tf.keras.layers.Dense(N_CLASSES, activation='softmax', kernel_initializer=kernel_initializer)(trained_model.output)\n",
        "model = tf.keras.Model(inputs=trained_model.input, outputs=output)\n",
        "\n",
        "# Callback to save weights, based on val_acc\n",
        "model_checkpoint_callback = tf.keras.callbacks.ModelCheckpoint(\n",
        "  './checkpoints/{epoch:02d}_{val_acc:.4f}.h5',\n",
        "  save_weights_only=False,\n",
        "  verbose=1,\n",
        "  monitor='val_acc',\n",
        "  save_best_only=True,\n",
        "  mode='max'\n",
        ")\n"
      ]
    },
    {
      "cell_type": "code",
      "metadata": {
        "id": "RxThqOt_f9Vs"
      },
      "source": [
        "\n",
        "\n",
        "\n",
        "# N_CLASSES = 5\n",
        "\n",
        "# #kernel_initializer = tf.keras.initializers.glorot_uniform(seed=1337)\n",
        "# trained_model = tf.keras.applications.mobilenet_v2.MobileNetV2(\n",
        "#                       include_top=False,\n",
        "#                       weights='imagenet',\n",
        "#                       alpha=0.5,\n",
        "#                       input_shape=[224, 224, 3],\n",
        "#                       pooling='max')\n",
        "# output = tf.keras.layers.Dense(N_CLASSES, activation='softmax', kernel_initializer=kernel_initializer)(trained_model.output)\n",
        "# model = tf.keras.Model(inputs=trained_model.input, outputs=output)\n",
        "\n",
        "# # Callback to save weights, based on val_acc\n",
        "# model_checkpoint_callback = tf.keras.callbacks.ModelCheckpoint(\n",
        "#   './checkpoints/{epoch:02d}_{val_acc:.4f}.h5',\n",
        "#   save_weights_only=False,\n",
        "#   verbose=1,\n",
        "#   monitor='val_acc',\n",
        "#   save_best_only=True,\n",
        "#   mode='max'\n",
        "# )\n"
      ],
      "execution_count": 11,
      "outputs": []
    },
    {
      "cell_type": "code",
      "metadata": {
        "id": "XOmULDZClOwH"
      },
      "source": [
        "# print(len(ds_train))"
      ],
      "execution_count": 12,
      "outputs": []
    },
    {
      "cell_type": "code",
      "metadata": {
        "id": "2DPd4idxhf65",
        "outputId": "f4e0e68c-7f68-45b7-ee3f-35c03bd5c004",
        "colab": {
          "base_uri": "https://localhost:8080/"
        }
      },
      "source": [
        "# # Callbackto plot data on TensorBoard\n",
        "# tensorboard_callback = tf.keras.callbacks.TensorBoard(\n",
        "#   log_dir='./logs/furniture_classifier',\n",
        "#   histogram_freq=0,\n",
        "#   batch_size=BATCH_SIZE\n",
        "# )\n",
        "\n",
        "# # Callback to reduce learning rate after plateaus\n",
        "# reduce_lr_callback = tf.keras.callbacks.ReduceLROnPlateau(\n",
        "#   monitor='val_acc',\n",
        "#   factor=0.5,\n",
        "#   patience=4,\n",
        "#   min_lr=1e-6\n",
        "# )\n",
        "\n",
        "# early_stopping_callback = tf.keras.callbacks.EarlyStopping(\n",
        "#   monitor='val_acc',\n",
        "#   patience=20,\n",
        "#   mode='max',\n",
        "# )\n",
        "\n",
        "# TRAIN_DATASET_SIZE = len(train_batches)\n",
        "# VAL_DATASET_SIZE   = len(val_batches)\n",
        "\n",
        "# # Weighted losses for class equilibrium\n",
        "# unique, counts = np.unique(ds_train.classes, return_counts=True)\n",
        "# class_weigths = dict(zip(unique, np.true_divide(counts.sum(), N_CLASSES*counts)))\n",
        "\n",
        "\n",
        "# if Path('./checkpoints/').exists():\n",
        "#   epoch_number_array = []\n",
        "#   val_accuracy_array = []\n",
        "#   file_name_array = []\n",
        "#   for file in os.listdir('./checkpoints/'):\n",
        "#     epoch, val_acc = re.search(r'(\\d\\d)_(\\d\\.\\d{4})\\.h5', file).group(1,2)\n",
        "#     epoch_number_array.append(int(epoch))\n",
        "#     val_accuracy_array.append(float(val_acc))\n",
        "#     file_name_array.append(file)\n",
        "\n",
        "#   if len(val_accuracy_array) == 0:\n",
        "#     INITIAL_EPOCH = 0\n",
        "#   else:\n",
        "#     highest_acc = val_accuracy_array.index(max(val_accuracy_array))\n",
        "#     INITIAL_EPOCH = epoch_number_array[highest_acc]\n",
        "#     model_checkpoint_callback.best = val_accuracy_array[highest_acc]\n",
        "#     model.load_weights('./checkpoints/'+file_name_array[highest_acc])\n",
        "# else:\n",
        "#   os.makedirs('./checkpoints/')\n",
        "#   INITIAL_EPOCH = 0\n",
        " \n",
        "TOTAL_EPOCHS = 10\n",
        "\n",
        "\n",
        "# Prepare model to run\n",
        "\n",
        "callbacks = [\n",
        "    keras.callbacks.ModelCheckpoint(\"save_at_{epoch}.h5\"),\n",
        "]\n",
        "model.compile(optimizer = tf.keras.optimizers.Adam(),\n",
        "              loss = 'categorical_crossentropy',\n",
        "              metrics = ['accuracy']\n",
        "              )\n",
        "\n",
        "\n",
        "\n",
        "model.fit(\n",
        "     ds_train, epochs=TOTAL_EPOCHS, callbacks=callbacks, validation_data=ds_valid,\n",
        " )\n",
        "# Starts training the model\n",
        "# model.fit_generator(train_batches,\n",
        "#                     epochs=TOTAL_EPOCHS,\n",
        "#                     verbose=1,\n",
        "#                     steps_per_epoch=TRAIN_DATASET_SIZE,\n",
        "#                     validation_data=val_batches,\n",
        "#                     validation_steps=VAL_DATASET_SIZE,\n",
        "#                     #initial_epoch=INITIAL_EPOCH,\n",
        "#                     #class_weight=class_weigths,\n",
        "#                     use_multiprocessing=True,\n",
        "#                     workers=4,\n",
        "#                     callbacks=[model_checkpoint_callback, tensorboard_callback, reduce_lr_callback, early_stopping_callback]\n",
        "#                     )"
      ],
      "execution_count": 13,
      "outputs": [
        {
          "output_type": "stream",
          "text": [
            "Epoch 1/10\n",
            "86/86 [==============================] - 6s 73ms/step - loss: 0.4744 - accuracy: 0.8365 - val_loss: 0.6441 - val_accuracy: 0.7859\n",
            "Epoch 2/10\n",
            "86/86 [==============================] - 6s 67ms/step - loss: 0.4592 - accuracy: 0.8424 - val_loss: 0.6333 - val_accuracy: 0.7947\n",
            "Epoch 3/10\n",
            "86/86 [==============================] - 6s 66ms/step - loss: 0.4692 - accuracy: 0.8343 - val_loss: 0.6364 - val_accuracy: 0.8006\n",
            "Epoch 4/10\n",
            "86/86 [==============================] - 6s 69ms/step - loss: 0.4240 - accuracy: 0.8578 - val_loss: 0.6510 - val_accuracy: 0.7742\n",
            "Epoch 5/10\n",
            "86/86 [==============================] - 6s 73ms/step - loss: 0.4133 - accuracy: 0.8526 - val_loss: 0.6018 - val_accuracy: 0.7977\n",
            "Epoch 6/10\n",
            "86/86 [==============================] - 6s 70ms/step - loss: 0.4038 - accuracy: 0.8497 - val_loss: 0.6105 - val_accuracy: 0.8123\n",
            "Epoch 7/10\n",
            "86/86 [==============================] - 6s 68ms/step - loss: 0.4088 - accuracy: 0.8526 - val_loss: 0.6633 - val_accuracy: 0.7801\n",
            "Epoch 8/10\n",
            "86/86 [==============================] - 6s 67ms/step - loss: 0.4058 - accuracy: 0.8541 - val_loss: 0.6169 - val_accuracy: 0.7977\n",
            "Epoch 9/10\n",
            "86/86 [==============================] - 6s 67ms/step - loss: 0.3757 - accuracy: 0.8658 - val_loss: 0.6347 - val_accuracy: 0.8006\n",
            "Epoch 10/10\n",
            "86/86 [==============================] - 6s 67ms/step - loss: 0.3635 - accuracy: 0.8746 - val_loss: 0.6130 - val_accuracy: 0.8094\n"
          ],
          "name": "stdout"
        },
        {
          "output_type": "execute_result",
          "data": {
            "text/plain": [
              "<tensorflow.python.keras.callbacks.History at 0x7f9c27d936a0>"
            ]
          },
          "metadata": {
            "tags": []
          },
          "execution_count": 13
        }
      ]
    },
    {
      "cell_type": "code",
      "metadata": {
        "id": "YaZpXSZ7hgLz"
      },
      "source": [
        ""
      ],
      "execution_count": 13,
      "outputs": []
    },
    {
      "cell_type": "code",
      "metadata": {
        "id": "sKDCYwiKhgUT"
      },
      "source": [
        ""
      ],
      "execution_count": 13,
      "outputs": []
    },
    {
      "cell_type": "code",
      "metadata": {
        "id": "QAj5F6A7hgVt"
      },
      "source": [
        ""
      ],
      "execution_count": 13,
      "outputs": []
    },
    {
      "cell_type": "markdown",
      "metadata": {
        "id": "qzNPupFkhaRl"
      },
      "source": [
        "Prev attempts\n"
      ]
    },
    {
      "cell_type": "code",
      "metadata": {
        "id": "wtjdIHGWvhFe"
      },
      "source": [
        "\n",
        "# # example of tending the vgg16 model\n",
        "# from keras.applications.vgg16 import VGG16\n",
        "# from keras.models import Model\n",
        "# from keras.layers import Dense\n",
        "# from keras.layers import Flatten\n",
        "# # load model without classifier layers\n",
        "# model = VGG16(include_top=False, input_shape=(224, 224, 3))\n",
        "# for layer in model.layers:\n",
        "# \tlayer.trainable = False\n",
        "\n",
        "# # add new classifier layers\n",
        "# flat1 = Flatten()(model.layers[-1].output)\n",
        "# class1 = Dense(1024, activation='relu')(flat1)\n",
        "# output = Dense(5, activation='softmax')(class1)\n",
        "# # define new model\n",
        "# model = Model(inputs=model.inputs, outputs=output)\n",
        "# # summarize\n",
        "# model.summary()"
      ],
      "execution_count": 14,
      "outputs": []
    },
    {
      "cell_type": "code",
      "metadata": {
        "id": "5YfgOBakwhH1"
      },
      "source": [
        "# #Adam optimizer\n",
        "\n",
        "# epochs = 50\n",
        "# callbacks = [\n",
        "#     keras.callbacks.ModelCheckpoint(\"save_at_{epoch}.h5\"),\n",
        "# ]\n",
        "# model.compile(\n",
        "#     optimizer=keras.optimizers.Adam(1e-3),\n",
        "#     loss= tf.keras.losses.CategoricalCrossentropy(),\n",
        "#     #loss=\"categorical_crossentropy\",\n",
        "#     metrics=[\"accuracy\"],\n",
        "# )\n",
        "# model.fit(\n",
        "#     ds_train, epochs=epochs, callbacks=callbacks, validation_data=ds_valid,\n",
        "# )"
      ],
      "execution_count": 15,
      "outputs": []
    },
    {
      "cell_type": "markdown",
      "metadata": {
        "id": "gi71LVV8Ejb_"
      },
      "source": [
        "#1 Try VGG16"
      ]
    },
    {
      "cell_type": "code",
      "metadata": {
        "id": "LiR3Fg5IEiRy"
      },
      "source": [
        "\n",
        "# model = Sequential()\n",
        "# model.add(Flatten(input_shape=train_features.shape[1:]))\n",
        "# model.add(Dense(4096, activation='relu'))\n",
        "# model.add(BatchNormalization())\n",
        "# model.add(Dropout(0.2))\n",
        "# model.add(Dense(512, activation='relu'))\n",
        "# model.add(BatchNormalization())\n",
        "# model.add(Dropout(0.3))\n",
        "# model.add(Dense(8, activation='softmax'))\n",
        "\n",
        "\n",
        "# # In[33]:\n",
        "\n",
        "\n",
        "# model.compile(optimizer=\"adam\",loss=\"categorical_crossentropy\",metrics =[\"accuracy\"])\n",
        "\n",
        "\n",
        "# # In[34]:\n",
        "\n",
        "# callbacks = EarlyStopping(monitor='val_loss', patience=4, verbose=1, mode='auto')        \n",
        "# # autosave best Model\n",
        "# best_model_file = \"./batch_normalized_weights.h5\"\n",
        "# best_model = ModelCheckpoint(best_model_file, monitor='val_acc', verbose = 1, save_best_only = True)\n",
        "\n",
        "\n",
        "# # In[ ]:\n",
        "\n",
        "# history = model.fit(train_features, onehot_train, batch_size=10, nb_epoch=10,\n",
        "#               validation_data=(valid_features,onehot_valid),shuffle=True,callbacks = [callbacks,best_model])\n",
        "\n",
        "\n",
        "# # In[ ]:\n",
        "\n",
        "# # summarize history for accuracy\n",
        "# plt.figure(figsize=(15, 5))\n",
        "# plt.subplot(1, 2, 1)\n",
        "# plt.plot(history.history['acc']); plt.plot(history.history['val_acc']);\n",
        "# plt.title('model accuracy'); plt.ylabel('accuracy');\n",
        "# plt.xlabel('epoch'); plt.legend(['train', 'valid'], loc='upper left');\n",
        "\n",
        "# # summarize history for loss\n",
        "# plt.subplot(1, 2, 2)\n",
        "# plt.plot(history.history['loss']); plt.plot(history.history['val_loss']);\n",
        "# plt.title('model loss'); plt.ylabel('loss');\n",
        "# plt.xlabel('epoch'); plt.legend(['train', 'valid'], loc='upper left');\n",
        "# plt.show()"
      ],
      "execution_count": 16,
      "outputs": []
    },
    {
      "cell_type": "markdown",
      "metadata": {
        "id": "831lLpFsJRab"
      },
      "source": [
        "EXAMPLE FROM KERAS GUIDE ON XCEPTION"
      ]
    },
    {
      "cell_type": "code",
      "metadata": {
        "id": "tNGuECOXtLpo"
      },
      "source": [
        "# image_size = (img_height, img_width)\n",
        "\n",
        "# def make_model(input_shape, num_classes):\n",
        "#     inputs = keras.Input(shape=input_shape)\n",
        "#     # Image augmentation block\n",
        "#     x = img_augmentation(inputs)\n",
        "#     #x = inputs\n",
        "\n",
        "#     # Entry block\n",
        "#     x = layers.experimental.preprocessing.Rescaling(1.0 / 255)(x)\n",
        "#     x = layers.Conv2D(32, 1, strides=2, padding=\"same\")(x)\n",
        "#     x = layers.BatchNormalization()(x)\n",
        "#     x = layers.Activation(\"relu\")(x)\n",
        "\n",
        "#     x = layers.Conv2D(64, 1, padding=\"same\")(x)\n",
        "#     x = layers.BatchNormalization()(x)\n",
        "#     x = layers.Activation(\"relu\")(x)\n",
        "\n",
        "#     previous_block_activation = x  # Set aside residual\n",
        "\n",
        "#     for size in [128, 256, 512, 728]:\n",
        "#         x = layers.Activation(\"relu\")(x)\n",
        "#         x = layers.SeparableConv2D(size, 3, padding=\"same\")(x)\n",
        "#         x = layers.BatchNormalization()(x)\n",
        "\n",
        "#         x = layers.Activation(\"relu\")(x)\n",
        "#         x = layers.SeparableConv2D(size, 3, padding=\"same\")(x)\n",
        "#         x = layers.BatchNormalization()(x)\n",
        "\n",
        "#         x = layers.MaxPooling2D(3, strides=2, padding=\"same\")(x)\n",
        "\n",
        "#         # Project residual\n",
        "#         residual = layers.Conv2D(size, 1, strides=2, padding=\"same\")(\n",
        "#             previous_block_activation\n",
        "#         )\n",
        "#         x = layers.add([x, residual])  # Add back residual\n",
        "#         previous_block_activation = x  # Set aside next residual\n",
        "\n",
        "#     x = layers.SeparableConv2D(1024, 3, padding=\"same\")(x)\n",
        "#     x = layers.BatchNormalization()(x)\n",
        "#     x = layers.Activation(\"relu\")(x)\n",
        "\n",
        "#     x = layers.GlobalAveragePooling2D()(x)\n",
        "#     if num_classes == 2:\n",
        "#         activation = \"sigmoid\"\n",
        "#         units = 1\n",
        "#     else:\n",
        "#         activation = \"softmax\"\n",
        "#         units = num_classes\n",
        "\n",
        "#     x = layers.Dropout(0.5)(x)\n",
        "#     outputs = layers.Dense(units, activation=activation)(x)\n",
        "#     return keras.Model(inputs, outputs)\n",
        "\n",
        "\n",
        "# model = make_model(input_shape=image_size + (3,), num_classes=5)\n",
        "# #keras.utils.plot_model(model, show_shapes=True)\n"
      ],
      "execution_count": 17,
      "outputs": []
    },
    {
      "cell_type": "code",
      "metadata": {
        "id": "pjL6O2-EtuLR"
      },
      "source": [
        "# #Adam optimizer\n",
        "\n",
        "# epochs = 50\n",
        "# callbacks = [\n",
        "#     keras.callbacks.ModelCheckpoint(\"save_at_{epoch}.h5\"),\n",
        "# ]\n",
        "# model.compile(\n",
        "#     optimizer=keras.optimizers.Adam(1e-3),\n",
        "#     loss= tf.keras.losses.SparseCategoricalCrossentropy(),\n",
        "#     #loss=\"categorical_crossentropy\",\n",
        "#     metrics=[\"accuracy\"],\n",
        "# )\n",
        "# model.fit(\n",
        "#     ds_train, epochs=epochs, callbacks=callbacks, validation_data=ds_valid,\n",
        "# )"
      ],
      "execution_count": 18,
      "outputs": []
    }
  ]
}