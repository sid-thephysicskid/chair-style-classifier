{
  "nbformat": 4,
  "nbformat_minor": 0,
  "metadata": {
    "colab": {
      "name": "classification_chair.ipynb",
      "provenance": [],
      "collapsed_sections": [],
      "authorship_tag": "ABX9TyOrISQoyJOO52iakN4Tux8B",
      "include_colab_link": true
    },
    "kernelspec": {
      "name": "python3",
      "display_name": "Python 3"
    },
    "accelerator": "GPU"
  },
  "cells": [
    {
      "cell_type": "markdown",
      "metadata": {
        "id": "view-in-github",
        "colab_type": "text"
      },
      "source": [
        "<a href=\"https://colab.research.google.com/github/who-knows-its-nebulose/Chair_Style_classifier/blob/main/classification_chair.ipynb\" target=\"_parent\"><img src=\"https://colab.research.google.com/assets/colab-badge.svg\" alt=\"Open In Colab\"/></a>"
      ]
    },
    {
      "cell_type": "code",
      "metadata": {
        "id": "c99EvWo1s9-x",
        "outputId": "386e50ea-f604-4085-8683-277c64664c19",
        "colab": {
          "base_uri": "https://localhost:8080/"
        }
      },
      "source": [
        "# Load the Drive helper and mount\n",
        "from google.colab import drive\n",
        "\n",
        "# This will prompt for authorization.\n",
        "drive.mount('/content/drive')"
      ],
      "execution_count": 1,
      "outputs": [
        {
          "output_type": "stream",
          "text": [
            "Drive already mounted at /content/drive; to attempt to forcibly remount, call drive.mount(\"/content/drive\", force_remount=True).\n"
          ],
          "name": "stdout"
        }
      ]
    },
    {
      "cell_type": "code",
      "metadata": {
        "id": "n8ClZBHniXn7"
      },
      "source": [
        "ls \"/content/drive/My Drive/Colab Notebooks/checkpoints/\""
      ],
      "execution_count": 2,
      "outputs": []
    },
    {
      "cell_type": "code",
      "metadata": {
        "id": "ObZIQifPTRsl"
      },
      "source": [
        "import os\n",
        "os.environ[\"TF_CPP_MIN_LOG_LEVEL\"] = \"2\"\n",
        "import matplotlib.pyplot as plt\n",
        "import numpy as np\n",
        "import tensorflow as tf\n",
        "from tensorflow import keras\n",
        "from tensorflow.keras import layers\n",
        "from tensorflow.keras.preprocessing.image import ImageDataGenerator\n",
        "from tensorflow.keras.layers.experimental import preprocessing\n",
        "from tensorflow.keras.models import Sequential\n",
        "\n",
        "img_height = 224\n",
        "img_width = 224\n",
        "batch_size = 16"
      ],
      "execution_count": 3,
      "outputs": []
    },
    {
      "cell_type": "code",
      "metadata": {
        "id": "XlW8nGkParIs",
        "outputId": "3c09bfc3-ccd4-47d4-c903-615c28044cf3",
        "colab": {
          "base_uri": "https://localhost:8080/"
        }
      },
      "source": [
        "ds_train = tf.keras.preprocessing.image_dataset_from_directory(\n",
        "    '/content/drive/My Drive/Colab Notebooks/chairs/',\n",
        "    labels = 'inferred',\n",
        "    label_mode = \"categorical\",\n",
        "    class_names = [\"Farmhouse\", \"Industrial\", \"Midcentury\",\"Tropical\",\"Victorian\"],\n",
        "    color_mode = 'rgb',\n",
        "    batch_size = batch_size,\n",
        "    image_size = (img_height, img_width),\n",
        "    shuffle = True, #(why?)\n",
        "    seed = 123,\n",
        "    validation_split = 0.2,\n",
        "    subset = \"training\",\n",
        ")\n",
        "\n",
        "ds_valid = tf.keras.preprocessing.image_dataset_from_directory(\n",
        "    '/content/drive/My Drive/Colab Notebooks/chairs/',\n",
        "    labels = 'inferred',\n",
        "    label_mode = \"categorical\",\n",
        "    class_names= [\"Farmhouse\", \"Industrial\", \"Midcentury\",\"Tropical\",\"Victorian\"],\n",
        "    color_mode = 'rgb',\n",
        "    batch_size = batch_size,\n",
        "    image_size = (img_height, img_width),\n",
        "    shuffle = True, #(why?)\n",
        "    seed = 123,\n",
        "    validation_split = 0.2,\n",
        "    subset = \"validation\",\n",
        ")\n",
        "\n",
        "\n",
        "  "
      ],
      "execution_count": 4,
      "outputs": [
        {
          "output_type": "stream",
          "text": [
            "Found 1705 files belonging to 5 classes.\n",
            "Using 1364 files for training.\n",
            "Found 1705 files belonging to 5 classes.\n",
            "Using 341 files for validation.\n"
          ],
          "name": "stdout"
        }
      ]
    },
    {
      "cell_type": "code",
      "metadata": {
        "id": "dm9wAvrv6zOO",
        "outputId": "39419b97-407d-480a-9644-660f81a61081",
        "colab": {
          "base_uri": "https://localhost:8080/"
        }
      },
      "source": [
        "class_names = ds_train.class_names\n",
        "print(class_names)"
      ],
      "execution_count": 5,
      "outputs": [
        {
          "output_type": "stream",
          "text": [
            "['Farmhouse', 'Industrial', 'Midcentury', 'Tropical', 'Victorian']\n"
          ],
          "name": "stdout"
        }
      ]
    },
    {
      "cell_type": "code",
      "metadata": {
        "id": "HSiCVIuEamjj"
      },
      "source": [
        "#look at the dataset\n",
        "\n",
        "# plt.figure(figsize=(10, 10))\n",
        "# for images, labels in ds_train.take(1):\n",
        "#   for i in range(16):\n",
        "#     ax = plt.subplot(4, 4, i + 1)\n",
        "#     plt.imshow(np.squeeze(images[i].numpy().astype(\"uint8\")))\n",
        "#     int_labels = np.argmax(labels, axis=-1)\n",
        "#     plt.title(class_names[int_labels[i]])\n",
        "#     plt.axis(\"off\")"
      ],
      "execution_count": 6,
      "outputs": []
    },
    {
      "cell_type": "markdown",
      "metadata": {
        "id": "qG1Ww02Y32ut"
      },
      "source": [
        "Augment and rescale"
      ]
    },
    {
      "cell_type": "code",
      "metadata": {
        "id": "Pb1g6sUfTK-f"
      },
      "source": [
        "from tensorflow.keras.layers.experimental import preprocessing\n",
        "from tensorflow.keras.models import Sequential\n",
        "IMG_SIZE = 224\n",
        "\n",
        "# resize_and_rescale = tf.keras.Sequential([\n",
        "#   layers.experimental.preprocessing.Resizing(IMG_SIZE, IMG_SIZE),\n",
        "#   layers.experimental.preprocessing.Rescaling(1./255)\n",
        "# ])\n",
        "\n",
        "img_augmentation = keras.Sequential(\n",
        "  [\n",
        "    layers.experimental.preprocessing.RandomFlip(\"horizontal\", \n",
        "                                                 input_shape=(img_height, \n",
        "                                                              img_width,\n",
        "                                                              3)),\n",
        "    layers.experimental.preprocessing.RandomRotation(0.1),\n",
        "    layers.experimental.preprocessing.RandomZoom(0.1),\n",
        "    layers.experimental.preprocessing.RandomContrast(0.1),\n",
        "  ]\n",
        ")\n",
        "\n",
        "preprocess_input = tf.keras.applications.mobilenet_v2.preprocess_input\n",
        "#rescale = tf.keras.layers.experimental.preprocessing.Rescaling(1./127.5, offset= -1)\n",
        "\n",
        "#set buffer_size to AUTOTUNE\n",
        "AUTOTUNE = tf.data.experimental.AUTOTUNE\n",
        "\n",
        "# ds_train = prepare(ds_train, shuffle=True, augment=True)\n",
        "# ds_valid = prepare(ds_valid)\n",
        "\n",
        "base_model = tf.keras.applications.MobileNetV2(input_shape=(img_height, \n",
        "                                                           img_width,\n",
        "                                                              3),\n",
        "                                               include_top=False,\n",
        "                                               weights='imagenet')\n",
        "\n",
        "image_batch, label_batch = next(iter(ds_train))\n",
        "feature_batch = base_model(image_batch)\n",
        "print(feature_batch.shape)\n",
        "\n",
        "base_model.trainable = False\n",
        "base_model.summary()\n",
        "\n",
        "#BUILD TOP LAYERS GAP2d+Dense+Dropout+DensewithSoftmax\n",
        "global_average_layer = tf.keras.layers.GlobalAveragePooling2D()\n",
        "dense_1024 = tf.keras.layers.Dense(1024, activation='relu')\n",
        "dense_512 = tf.keras.layers.Dense(512, activation='relu')\n",
        "dense_128 = tf.keras.layers.Dense(128, activation='relu')\n",
        "drop = tf.keras.layers.Dropout(0.2)\n",
        "prediction_layer = tf.keras.layers.Dense(5, activation='softmax')\n",
        "\n",
        "feature_batch_average = global_average_layer(feature_batch)\n",
        "print(feature_batch_average.shape)\n",
        "# dense_128batch = dense_128(feature_batch_average)\n",
        "# print(dense_128batch.shape)\n",
        "# dropoutbatch=tf.keras.layers.Dropout(0.2)(dense_128batch)\n",
        "# print(dropoutbatch)\n",
        "# prediction_batch = prediction_layer(dropoutbatch)\n",
        "# print(prediction_batch.shape)\n",
        "\n",
        "inputs = tf.keras.Input(shape=(img_height, img_width, 3))\n",
        "x = img_augmentation(inputs)\n",
        "x = preprocess_input(x)\n",
        "x = base_model(x, training=False)\n",
        "x = global_average_layer(x)\n",
        "x = drop(x)\n",
        "x = dense_512(x)\n",
        "x = drop(x)\n",
        "# x = dense_512(x)\n",
        "# x = drop(x)\n",
        "x = dense_128(x)\n",
        "x = drop(x)\n",
        "outputs = prediction_layer(x)\n",
        "model = tf.keras.Model(inputs, outputs)\n",
        "\n",
        "\n"
      ],
      "execution_count": null,
      "outputs": []
    },
    {
      "cell_type": "code",
      "metadata": {
        "id": "jFCaY3LrA00J"
      },
      "source": [
        "# for image, label in ds_train.take(1):\n",
        "#     for i in range(9):\n",
        "#         ax = plt.subplot(3, 3, i + 1)\n",
        "#         #aug_img = img_augmentation(image)\n",
        "#         aug_image = img_augmentation(tf.expand_dims(image[0], axis=0))\n",
        "#         plt.imshow(aug_image[0]/255)\n",
        "# #        plt.title(int(labels[i]))\n",
        "# #       plt.title(\"{}\".format(format_label(label)))\n",
        "#         plt.axis(\"off\")"
      ],
      "execution_count": 8,
      "outputs": []
    },
    {
      "cell_type": "markdown",
      "metadata": {
        "id": "IyYNZtpBJIpt"
      },
      "source": [
        "PREFETCH"
      ]
    },
    {
      "cell_type": "code",
      "metadata": {
        "id": "0vzk8QfCjIMr",
        "outputId": "5f126907-616f-45b0-ff45-7e50d0941023",
        "colab": {
          "base_uri": "https://localhost:8080/"
        }
      },
      "source": [
        "model.compile(optimizer = tf.keras.optimizers.Adam(learning_rate=0.0001),\n",
        "              loss = 'categorical_crossentropy',\n",
        "              metrics = ['accuracy']\n",
        "              )\n",
        "\n",
        "model.summary()\n",
        "\n",
        "ds_train = ds_train.prefetch(buffer_size=AUTOTUNE) \n",
        "ds_valid = ds_valid.prefetch(buffer_size=AUTOTUNE)\n",
        "\n",
        "len(model.trainable_variables)\n",
        "\n"
      ],
      "execution_count": 9,
      "outputs": [
        {
          "output_type": "stream",
          "text": [
            "Model: \"functional_1\"\n",
            "__________________________________________________________________________________________________\n",
            "Layer (type)                    Output Shape         Param #     Connected to                     \n",
            "==================================================================================================\n",
            "input_2 (InputLayer)            [(None, 224, 224, 3) 0                                            \n",
            "__________________________________________________________________________________________________\n",
            "sequential (Sequential)         (None, 224, 224, 3)  0           input_2[0][0]                    \n",
            "__________________________________________________________________________________________________\n",
            "tf_op_layer_RealDiv (TensorFlow [(None, 224, 224, 3) 0           sequential[0][0]                 \n",
            "__________________________________________________________________________________________________\n",
            "tf_op_layer_Sub (TensorFlowOpLa [(None, 224, 224, 3) 0           tf_op_layer_RealDiv[0][0]        \n",
            "__________________________________________________________________________________________________\n",
            "mobilenetv2_1.00_224 (Functiona (None, 7, 7, 1280)   2257984     tf_op_layer_Sub[0][0]            \n",
            "__________________________________________________________________________________________________\n",
            "global_average_pooling2d (Globa (None, 1280)         0           mobilenetv2_1.00_224[0][0]       \n",
            "__________________________________________________________________________________________________\n",
            "dropout (Dropout)               multiple             0           global_average_pooling2d[0][0]   \n",
            "                                                                 dense_1[0][0]                    \n",
            "                                                                 dense_2[0][0]                    \n",
            "__________________________________________________________________________________________________\n",
            "dense_1 (Dense)                 (None, 512)          655872      dropout[0][0]                    \n",
            "__________________________________________________________________________________________________\n",
            "dense_2 (Dense)                 (None, 128)          65664       dropout[1][0]                    \n",
            "__________________________________________________________________________________________________\n",
            "dense_3 (Dense)                 (None, 5)            645         dropout[2][0]                    \n",
            "==================================================================================================\n",
            "Total params: 2,980,165\n",
            "Trainable params: 722,181\n",
            "Non-trainable params: 2,257,984\n",
            "__________________________________________________________________________________________________\n"
          ],
          "name": "stdout"
        },
        {
          "output_type": "execute_result",
          "data": {
            "text/plain": [
              "6"
            ]
          },
          "metadata": {
            "tags": []
          },
          "execution_count": 9
        }
      ]
    },
    {
      "cell_type": "code",
      "metadata": {
        "id": "XU-P0AmcD2Ln",
        "outputId": "572f4078-819d-4fe2-bfc9-a266c88f1f91",
        "colab": {
          "base_uri": "https://localhost:8080/"
        }
      },
      "source": [
        "print(AUTOTUNE)\n",
        "\n",
        "initial_epochs = 100\n",
        "\n",
        "from keras.callbacks import *\n",
        "filepath=\"/content/drive/My Drive/Colab_notebooks/checkpoint/epochs:{epoch:03d}-val_acc:{val_accuracy:.3f}.hdf5\"\n",
        "checkpoint = ModelCheckpoint(filepath, monitor='val_accuracy', verbose=1, save_best_only=True, mode='max')\n",
        "callbacks_list = [checkpoint]\n",
        "\n",
        "\n",
        "\n",
        "# checkpoint_filepath = '/content/drive/My Drive/Colab_notebooks/checkpoint/cp.ckpt'\n",
        "# model_checkpoint_callback = tf.keras.callbacks.ModelCheckpoint(\n",
        "#     filepath=checkpoint_filepath,\n",
        "#     save_weights_only=False,)\n",
        "#     #monitor='val_accuracy',\n",
        "#     #mode='max',\n",
        "#     #save_best_only=True)\n",
        "\n",
        "reduce_lr_callback = tf.keras.callbacks.ReduceLROnPlateau(\n",
        "  monitor='val_accuracy',\n",
        "  factor=0.5,\n",
        "  patience=4,\n",
        "  min_lr=1e-6\n",
        ")\n",
        "\n",
        "early_stopping_callback = tf.keras.callbacks.EarlyStopping(\n",
        "  monitor='val_accuracy',\n",
        "  patience=5,\n",
        "  mode='max',\n",
        ")\n",
        "\n",
        "\n",
        "\n",
        "# callbacks = [\n",
        "#     keras.callbacks.EarlyStopping(\n",
        "#         # Stop training when `val_loss` is no longer improving\n",
        "#         monitor=\"val_loss\",\n",
        "#         # \"no longer improving\" being defined as \"no better than 1e-2 less\"\n",
        "#         min_delta=1e-2,\n",
        "#         # \"no longer improving\" being further defined as \"for at least 2 epochs\"\n",
        "#         patience=2,\n",
        "#         verbose=1,\n",
        "#     )\n",
        "# ]\n",
        "\n",
        "history = model.fit(ds_train,\n",
        "                    epochs=initial_epochs,\n",
        "                    validation_data=ds_valid,\n",
        "                    callbacks = [checkpoint, early_stopping_callback, reduce_lr_callback])\n",
        "\n",
        "acc = history.history['accuracy']\n",
        "val_acc = history.history['val_accuracy']\n",
        "\n",
        "loss = history.history['loss']\n",
        "val_loss = history.history['val_loss']\n"
      ],
      "execution_count": 10,
      "outputs": [
        {
          "output_type": "stream",
          "text": [
            "-1\n",
            "Epoch 1/100\n",
            "86/86 [==============================] - ETA: 0s - loss: 1.4194 - accuracy: 0.4076\n",
            "Epoch 00001: val_accuracy improved from -inf to 0.65689, saving model to /content/drive/My Drive/Colab_notebooks/checkpoint/epochs:001-val_acc:0.657.hdf5\n",
            "86/86 [==============================] - 7s 82ms/step - loss: 1.4194 - accuracy: 0.4076 - val_loss: 1.1076 - val_accuracy: 0.6569\n",
            "Epoch 2/100\n",
            "85/86 [============================>.] - ETA: 0s - loss: 1.0021 - accuracy: 0.6184\n",
            "Epoch 00002: val_accuracy improved from 0.65689 to 0.73900, saving model to /content/drive/My Drive/Colab_notebooks/checkpoint/epochs:002-val_acc:0.739.hdf5\n",
            "86/86 [==============================] - 6s 68ms/step - loss: 1.0009 - accuracy: 0.6195 - val_loss: 0.9089 - val_accuracy: 0.7390\n",
            "Epoch 3/100\n",
            "84/86 [============================>.] - ETA: 0s - loss: 0.8234 - accuracy: 0.7046\n",
            "Epoch 00003: val_accuracy improved from 0.73900 to 0.75953, saving model to /content/drive/My Drive/Colab_notebooks/checkpoint/epochs:003-val_acc:0.760.hdf5\n",
            "86/86 [==============================] - 6s 69ms/step - loss: 0.8211 - accuracy: 0.7067 - val_loss: 0.8148 - val_accuracy: 0.7595\n",
            "Epoch 4/100\n",
            "84/86 [============================>.] - ETA: 0s - loss: 0.7807 - accuracy: 0.7143\n",
            "Epoch 00004: val_accuracy improved from 0.75953 to 0.78592, saving model to /content/drive/My Drive/Colab_notebooks/checkpoint/epochs:004-val_acc:0.786.hdf5\n",
            "86/86 [==============================] - 6s 68ms/step - loss: 0.7820 - accuracy: 0.7133 - val_loss: 0.7496 - val_accuracy: 0.7859\n",
            "Epoch 5/100\n",
            "84/86 [============================>.] - ETA: 0s - loss: 0.6972 - accuracy: 0.7537\n",
            "Epoch 00005: val_accuracy did not improve from 0.78592\n",
            "86/86 [==============================] - 6s 65ms/step - loss: 0.6959 - accuracy: 0.7529 - val_loss: 0.7152 - val_accuracy: 0.7742\n",
            "Epoch 6/100\n",
            "84/86 [============================>.] - ETA: 0s - loss: 0.6508 - accuracy: 0.7686\n",
            "Epoch 00006: val_accuracy did not improve from 0.78592\n",
            "86/86 [==============================] - 6s 65ms/step - loss: 0.6460 - accuracy: 0.7705 - val_loss: 0.6875 - val_accuracy: 0.7742\n",
            "Epoch 7/100\n",
            "85/86 [============================>.] - ETA: 0s - loss: 0.6411 - accuracy: 0.7699\n",
            "Epoch 00007: val_accuracy improved from 0.78592 to 0.78886, saving model to /content/drive/My Drive/Colab_notebooks/checkpoint/epochs:007-val_acc:0.789.hdf5\n",
            "86/86 [==============================] - 6s 68ms/step - loss: 0.6402 - accuracy: 0.7705 - val_loss: 0.6600 - val_accuracy: 0.7889\n",
            "Epoch 8/100\n",
            "84/86 [============================>.] - ETA: 0s - loss: 0.6095 - accuracy: 0.7842\n",
            "Epoch 00008: val_accuracy improved from 0.78886 to 0.79765, saving model to /content/drive/My Drive/Colab_notebooks/checkpoint/epochs:008-val_acc:0.798.hdf5\n",
            "86/86 [==============================] - 6s 68ms/step - loss: 0.6071 - accuracy: 0.7837 - val_loss: 0.6473 - val_accuracy: 0.7977\n",
            "Epoch 9/100\n",
            "85/86 [============================>.] - ETA: 0s - loss: 0.5810 - accuracy: 0.7743\n",
            "Epoch 00009: val_accuracy did not improve from 0.79765\n",
            "86/86 [==============================] - 6s 64ms/step - loss: 0.5822 - accuracy: 0.7735 - val_loss: 0.6636 - val_accuracy: 0.7625\n",
            "Epoch 10/100\n",
            "84/86 [============================>.] - ETA: 0s - loss: 0.5640 - accuracy: 0.8051\n",
            "Epoch 00010: val_accuracy did not improve from 0.79765\n",
            "86/86 [==============================] - 6s 67ms/step - loss: 0.5636 - accuracy: 0.8050 - val_loss: 0.6478 - val_accuracy: 0.7889\n",
            "Epoch 11/100\n",
            "85/86 [============================>.] - ETA: 0s - loss: 0.5394 - accuracy: 0.8081\n",
            "Epoch 00011: val_accuracy did not improve from 0.79765\n",
            "86/86 [==============================] - 5s 63ms/step - loss: 0.5395 - accuracy: 0.8079 - val_loss: 0.6348 - val_accuracy: 0.7801\n",
            "Epoch 12/100\n",
            "85/86 [============================>.] - ETA: 0s - loss: 0.5397 - accuracy: 0.8125\n",
            "Epoch 00012: val_accuracy did not improve from 0.79765\n",
            "86/86 [==============================] - 5s 64ms/step - loss: 0.5389 - accuracy: 0.8130 - val_loss: 0.6659 - val_accuracy: 0.7859\n",
            "Epoch 13/100\n",
            "85/86 [============================>.] - ETA: 0s - loss: 0.5107 - accuracy: 0.8243\n",
            "Epoch 00013: val_accuracy improved from 0.79765 to 0.80059, saving model to /content/drive/My Drive/Colab_notebooks/checkpoint/epochs:013-val_acc:0.801.hdf5\n",
            "86/86 [==============================] - 6s 67ms/step - loss: 0.5133 - accuracy: 0.8233 - val_loss: 0.6308 - val_accuracy: 0.8006\n",
            "Epoch 14/100\n",
            "85/86 [============================>.] - ETA: 0s - loss: 0.4843 - accuracy: 0.8169\n",
            "Epoch 00014: val_accuracy improved from 0.80059 to 0.80352, saving model to /content/drive/My Drive/Colab_notebooks/checkpoint/epochs:014-val_acc:0.804.hdf5\n",
            "86/86 [==============================] - 6s 69ms/step - loss: 0.4837 - accuracy: 0.8167 - val_loss: 0.6256 - val_accuracy: 0.8035\n",
            "Epoch 15/100\n",
            "85/86 [============================>.] - ETA: 0s - loss: 0.5027 - accuracy: 0.8176\n",
            "Epoch 00015: val_accuracy did not improve from 0.80352\n",
            "86/86 [==============================] - 6s 65ms/step - loss: 0.5035 - accuracy: 0.8174 - val_loss: 0.6190 - val_accuracy: 0.8035\n",
            "Epoch 16/100\n",
            "84/86 [============================>.] - ETA: 0s - loss: 0.4539 - accuracy: 0.8415\n",
            "Epoch 00016: val_accuracy improved from 0.80352 to 0.80645, saving model to /content/drive/My Drive/Colab_notebooks/checkpoint/epochs:016-val_acc:0.806.hdf5\n",
            "86/86 [==============================] - 6s 68ms/step - loss: 0.4546 - accuracy: 0.8409 - val_loss: 0.6164 - val_accuracy: 0.8065\n",
            "Epoch 17/100\n",
            "84/86 [============================>.] - ETA: 0s - loss: 0.4472 - accuracy: 0.8318\n",
            "Epoch 00017: val_accuracy did not improve from 0.80645\n",
            "86/86 [==============================] - 5s 64ms/step - loss: 0.4491 - accuracy: 0.8306 - val_loss: 0.6093 - val_accuracy: 0.8006\n",
            "Epoch 18/100\n",
            "84/86 [============================>.] - ETA: 0s - loss: 0.4674 - accuracy: 0.8452\n",
            "Epoch 00018: val_accuracy did not improve from 0.80645\n",
            "86/86 [==============================] - 6s 65ms/step - loss: 0.4657 - accuracy: 0.8460 - val_loss: 0.6024 - val_accuracy: 0.7977\n",
            "Epoch 19/100\n",
            "85/86 [============================>.] - ETA: 0s - loss: 0.4371 - accuracy: 0.8353\n",
            "Epoch 00019: val_accuracy did not improve from 0.80645\n",
            "86/86 [==============================] - 5s 64ms/step - loss: 0.4362 - accuracy: 0.8358 - val_loss: 0.6046 - val_accuracy: 0.8006\n",
            "Epoch 20/100\n",
            "85/86 [============================>.] - ETA: 0s - loss: 0.4374 - accuracy: 0.8360\n",
            "Epoch 00020: val_accuracy did not improve from 0.80645\n",
            "86/86 [==============================] - 5s 63ms/step - loss: 0.4390 - accuracy: 0.8358 - val_loss: 0.6052 - val_accuracy: 0.7947\n",
            "Epoch 21/100\n",
            "85/86 [============================>.] - ETA: 0s - loss: 0.4385 - accuracy: 0.8441\n",
            "Epoch 00021: val_accuracy did not improve from 0.80645\n",
            "86/86 [==============================] - 5s 63ms/step - loss: 0.4388 - accuracy: 0.8438 - val_loss: 0.5961 - val_accuracy: 0.8035\n"
          ],
          "name": "stdout"
        }
      ]
    },
    {
      "cell_type": "code",
      "metadata": {
        "id": "PHUiuk_NVPfc",
        "outputId": "d1fba13c-44aa-405e-f512-dae2dbb3e3d1",
        "colab": {
          "base_uri": "https://localhost:8080/"
        }
      },
      "source": [
        "print(callbacks_list)"
      ],
      "execution_count": 25,
      "outputs": [
        {
          "output_type": "stream",
          "text": [
            "<tensorflow.python.keras.callbacks.ModelCheckpoint object at 0x7f915c2b3f28>\n"
          ],
          "name": "stdout"
        }
      ]
    },
    {
      "cell_type": "code",
      "metadata": {
        "id": "w1bPSxWvHCA5",
        "outputId": "77d67b50-beba-43ce-f795-3fd6c90e60b5",
        "colab": {
          "base_uri": "https://localhost:8080/",
          "height": 513
        }
      },
      "source": [
        "plt.figure(figsize=(8, 8))\n",
        "plt.subplot(2, 1, 1)\n",
        "plt.plot(acc, label='Training Accuracy')\n",
        "plt.plot(val_acc, label='Validation Accuracy')\n",
        "plt.legend(loc='lower right')\n",
        "plt.ylabel('Accuracy')\n",
        "plt.ylim([min(plt.ylim()),1])\n",
        "plt.title('Training and Validation Accuracy')\n",
        "\n",
        "plt.subplot(2, 1, 2)\n",
        "plt.plot(loss, label='Training Loss')\n",
        "plt.plot(val_loss, label='Validation Loss')\n",
        "plt.legend(loc='upper right')\n",
        "plt.ylabel('Cross Entropy')\n",
        "plt.ylim([0,2.0])\n",
        "plt.title('Training and Validation Loss')\n",
        "plt.xlabel('epoch')\n",
        "plt.show()"
      ],
      "execution_count": 11,
      "outputs": [
        {
          "output_type": "display_data",
          "data": {
            "image/png": "[encoded data removed]",
            "text/plain": [
              "<Figure size 576x576 with 2 Axes>"
            ]
          },
          "metadata": {
            "tags": [],
            "needs_background": "light"
          }
        }
      ]
    },
    {
      "cell_type": "markdown",
      "metadata": {
        "id": "R15-hqw9IqwM"
      },
      "source": [
        "fine tune to see if it can improve"
      ]
    },
    {
      "cell_type": "code",
      "metadata": {
        "id": "jQjhPSuZIhTO",
        "outputId": "f9ff1497-23a1-476b-a704-44bc53eb741e",
        "colab": {
          "base_uri": "https://localhost:8080/"
        }
      },
      "source": [
        "\n",
        "\n",
        "base_model.trainable = True\n",
        "\n",
        "# Let's take a look to see how many layers are in the base model\n",
        "print(\"Number of layers in the base model: \", len(base_model.layers))\n",
        "\n",
        "# Fine-tune from this layer onwards\n",
        "fine_tune_at = 20\n",
        "\n",
        "# Freeze all the layers before the `fine_tune_at` layer\n",
        "for layer in base_model.layers[:fine_tune_at]:\n",
        "  layer.trainable =  False\n",
        "\n",
        "base_learning_rate = 0.0001\n",
        "\n",
        "model.compile(optimizer = tf.keras.optimizers.Adam(learning_rate=base_learning_rate/10),\n",
        "              loss = 'categorical_crossentropy',\n",
        "              metrics = ['accuracy']\n",
        "              )\n",
        "model.summary()\n",
        "\n",
        "len(model.trainable_variables)"
      ],
      "execution_count": 12,
      "outputs": [
        {
          "output_type": "stream",
          "text": [
            "Number of layers in the base model:  155\n",
            "Model: \"functional_1\"\n",
            "__________________________________________________________________________________________________\n",
            "Layer (type)                    Output Shape         Param #     Connected to                     \n",
            "==================================================================================================\n",
            "input_2 (InputLayer)            [(None, 224, 224, 3) 0                                            \n",
            "__________________________________________________________________________________________________\n",
            "sequential (Sequential)         (None, 224, 224, 3)  0           input_2[0][0]                    \n",
            "__________________________________________________________________________________________________\n",
            "tf_op_layer_RealDiv (TensorFlow [(None, 224, 224, 3) 0           sequential[0][0]                 \n",
            "__________________________________________________________________________________________________\n",
            "tf_op_layer_Sub (TensorFlowOpLa [(None, 224, 224, 3) 0           tf_op_layer_RealDiv[0][0]        \n",
            "__________________________________________________________________________________________________\n",
            "mobilenetv2_1.00_224 (Functiona (None, 7, 7, 1280)   2257984     tf_op_layer_Sub[0][0]            \n",
            "__________________________________________________________________________________________________\n",
            "global_average_pooling2d (Globa (None, 1280)         0           mobilenetv2_1.00_224[0][0]       \n",
            "__________________________________________________________________________________________________\n",
            "dropout (Dropout)               multiple             0           global_average_pooling2d[0][0]   \n",
            "                                                                 dense_1[0][0]                    \n",
            "                                                                 dense_2[0][0]                    \n",
            "__________________________________________________________________________________________________\n",
            "dense_1 (Dense)                 (None, 512)          655872      dropout[0][0]                    \n",
            "__________________________________________________________________________________________________\n",
            "dense_2 (Dense)                 (None, 128)          65664       dropout[1][0]                    \n",
            "__________________________________________________________________________________________________\n",
            "dense_3 (Dense)                 (None, 5)            645         dropout[2][0]                    \n",
            "==================================================================================================\n",
            "Total params: 2,980,165\n",
            "Trainable params: 2,935,637\n",
            "Non-trainable params: 44,528\n",
            "__________________________________________________________________________________________________\n"
          ],
          "name": "stdout"
        },
        {
          "output_type": "execute_result",
          "data": {
            "text/plain": [
              "143"
            ]
          },
          "metadata": {
            "tags": []
          },
          "execution_count": 12
        }
      ]
    },
    {
      "cell_type": "code",
      "metadata": {
        "id": "7DmKPSufIhRd",
        "outputId": "ea598b57-9563-441e-ddfc-5abc615ec8fc",
        "colab": {
          "base_uri": "https://localhost:8080/"
        }
      },
      "source": [
        "fine_tune_epochs =20\n",
        "total_epochs =  initial_epochs + fine_tune_epochs\n",
        "\n",
        "history_fine = model.fit(ds_train,\n",
        "                         epochs=total_epochs,\n",
        "                         initial_epoch=history.epoch[-1],\n",
        "                         validation_data=ds_valid,\n",
        "                         callbacks = [checkpoint, early_stopping_callback, reduce_lr_callback])"
      ],
      "execution_count": 13,
      "outputs": [
        {
          "output_type": "stream",
          "text": [
            "Epoch 21/120\n",
            "86/86 [==============================] - ETA: 0s - loss: 0.4589 - accuracy: 0.8328\n",
            "Epoch 00021: val_accuracy improved from 0.80645 to 0.81818, saving model to /content/drive/My Drive/Colab_notebooks/checkpoint/epochs:021-val_acc:0.818.hdf5\n",
            "86/86 [==============================] - 9s 103ms/step - loss: 0.4589 - accuracy: 0.8328 - val_loss: 0.5778 - val_accuracy: 0.8182\n",
            "Epoch 22/120\n",
            "85/86 [============================>.] - ETA: 0s - loss: 0.4134 - accuracy: 0.8537\n",
            "Epoch 00022: val_accuracy did not improve from 0.81818\n",
            "86/86 [==============================] - 7s 87ms/step - loss: 0.4147 - accuracy: 0.8534 - val_loss: 0.6308 - val_accuracy: 0.7947\n",
            "Epoch 23/120\n",
            "85/86 [============================>.] - ETA: 0s - loss: 0.3664 - accuracy: 0.8669\n",
            "Epoch 00023: val_accuracy did not improve from 0.81818\n",
            "86/86 [==============================] - 8s 87ms/step - loss: 0.3655 - accuracy: 0.8673 - val_loss: 0.5795 - val_accuracy: 0.8123\n",
            "Epoch 24/120\n",
            "85/86 [============================>.] - ETA: 0s - loss: 0.3486 - accuracy: 0.8809\n",
            "Epoch 00024: val_accuracy did not improve from 0.81818\n",
            "86/86 [==============================] - 7s 86ms/step - loss: 0.3487 - accuracy: 0.8805 - val_loss: 0.5790 - val_accuracy: 0.8094\n",
            "Epoch 25/120\n",
            "85/86 [============================>.] - ETA: 0s - loss: 0.3391 - accuracy: 0.8860\n",
            "Epoch 00025: val_accuracy improved from 0.81818 to 0.82991, saving model to /content/drive/My Drive/Colab_notebooks/checkpoint/epochs:025-val_acc:0.830.hdf5\n",
            "86/86 [==============================] - 8s 95ms/step - loss: 0.3403 - accuracy: 0.8849 - val_loss: 0.5478 - val_accuracy: 0.8299\n",
            "Epoch 26/120\n",
            "85/86 [============================>.] - ETA: 0s - loss: 0.3271 - accuracy: 0.8787\n",
            "Epoch 00026: val_accuracy did not improve from 0.82991\n",
            "86/86 [==============================] - 7s 87ms/step - loss: 0.3262 - accuracy: 0.8790 - val_loss: 0.5340 - val_accuracy: 0.8299\n",
            "Epoch 27/120\n",
            "85/86 [============================>.] - ETA: 0s - loss: 0.3274 - accuracy: 0.8860\n",
            "Epoch 00027: val_accuracy improved from 0.82991 to 0.83578, saving model to /content/drive/My Drive/Colab_notebooks/checkpoint/epochs:027-val_acc:0.836.hdf5\n",
            "86/86 [==============================] - 8s 96ms/step - loss: 0.3268 - accuracy: 0.8864 - val_loss: 0.5434 - val_accuracy: 0.8358\n",
            "Epoch 28/120\n",
            "85/86 [============================>.] - ETA: 0s - loss: 0.2667 - accuracy: 0.9081\n",
            "Epoch 00028: val_accuracy improved from 0.83578 to 0.83871, saving model to /content/drive/My Drive/Colab_notebooks/checkpoint/epochs:028-val_acc:0.839.hdf5\n",
            "86/86 [==============================] - 8s 94ms/step - loss: 0.2659 - accuracy: 0.9084 - val_loss: 0.5973 - val_accuracy: 0.8387\n",
            "Epoch 29/120\n",
            "85/86 [============================>.] - ETA: 0s - loss: 0.2805 - accuracy: 0.9015\n",
            "Epoch 00029: val_accuracy did not improve from 0.83871\n",
            "86/86 [==============================] - 7s 87ms/step - loss: 0.2798 - accuracy: 0.9018 - val_loss: 0.5859 - val_accuracy: 0.8299\n",
            "Epoch 30/120\n",
            "85/86 [============================>.] - ETA: 0s - loss: 0.2527 - accuracy: 0.9059\n",
            "Epoch 00030: val_accuracy did not improve from 0.83871\n",
            "86/86 [==============================] - 7s 86ms/step - loss: 0.2520 - accuracy: 0.9062 - val_loss: 0.5931 - val_accuracy: 0.8152\n",
            "Epoch 31/120\n",
            "85/86 [============================>.] - ETA: 0s - loss: 0.2486 - accuracy: 0.9235\n",
            "Epoch 00031: val_accuracy did not improve from 0.83871\n",
            "86/86 [==============================] - 7s 87ms/step - loss: 0.2482 - accuracy: 0.9238 - val_loss: 0.5671 - val_accuracy: 0.8270\n",
            "Epoch 32/120\n",
            "85/86 [============================>.] - ETA: 0s - loss: 0.2453 - accuracy: 0.9221\n",
            "Epoch 00032: val_accuracy did not improve from 0.83871\n",
            "86/86 [==============================] - 8s 87ms/step - loss: 0.2448 - accuracy: 0.9223 - val_loss: 0.6001 - val_accuracy: 0.8240\n",
            "Epoch 33/120\n",
            "85/86 [============================>.] - ETA: 0s - loss: 0.2144 - accuracy: 0.9279\n",
            "Epoch 00033: val_accuracy did not improve from 0.83871\n",
            "86/86 [==============================] - 7s 86ms/step - loss: 0.2139 - accuracy: 0.9282 - val_loss: 0.5650 - val_accuracy: 0.8358\n"
          ],
          "name": "stdout"
        }
      ]
    },
    {
      "cell_type": "code",
      "metadata": {
        "id": "pD8l_aPFKnmr"
      },
      "source": [
        "acc += history_fine.history['accuracy']\n",
        "val_acc += history_fine.history['val_accuracy']\n",
        "\n",
        "loss += history_fine.history['loss']\n",
        "val_loss += history_fine.history['val_loss']\n",
        "\n"
      ],
      "execution_count": 14,
      "outputs": []
    },
    {
      "cell_type": "code",
      "metadata": {
        "id": "cU8FiCYNKpWS",
        "outputId": "4a56605d-61e7-49ba-ba7b-f48a4ab9b47b",
        "colab": {
          "base_uri": "https://localhost:8080/",
          "height": 513
        }
      },
      "source": [
        "\n",
        "\n",
        "plt.figure(figsize=(8, 8))\n",
        "plt.subplot(2, 1, 1)\n",
        "plt.plot(acc, label='Training Accuracy')\n",
        "plt.plot(val_acc, label='Validation Accuracy')\n",
        "plt.ylim([0.8, 1])\n",
        "plt.plot([initial_epochs-1,initial_epochs-1],\n",
        "          plt.ylim(), label='Start Fine Tuning')\n",
        "plt.legend(loc='lower left')\n",
        "plt.title('Training and Validation Accuracy')\n",
        "\n",
        "plt.subplot(2, 1, 2)\n",
        "plt.plot(loss, label='Training Loss')\n",
        "plt.plot(val_loss, label='Validation Loss')\n",
        "plt.ylim([0, 1.0])\n",
        "plt.plot([initial_epochs-1,initial_epochs-1],\n",
        "         plt.ylim(), label='Start Fine Tuning')\n",
        "plt.legend(loc='upper left')\n",
        "plt.title('Training and Validation Loss')\n",
        "plt.xlabel('epoch')\n",
        "plt.show()"
      ],
      "execution_count": 15,
      "outputs": [
        {
          "output_type": "display_data",
          "data": {
            "image/png": "[encoded data removed]",
            "text/plain": [
              "<Figure size 576x576 with 2 Axes>"
            ]
          },
          "metadata": {
            "tags": [],
            "needs_background": "light"
          }
        }
      ]
    },
    {
      "cell_type": "markdown",
      "metadata": {
        "id": "seJk7YqPZpFL"
      },
      "source": [
        "#best so far model saved, 83.78"
      ]
    },
    {
      "cell_type": "markdown",
      "metadata": {
        "id": "pG4E3MKZZpDi"
      },
      "source": [
        ""
      ]
    },
    {
      "cell_type": "code",
      "metadata": {
        "id": "PCGKPePAX7JJ"
      },
      "source": [
        "model.save('bb.h5')"
      ],
      "execution_count": 28,
      "outputs": []
    },
    {
      "cell_type": "code",
      "metadata": {
        "id": "1anHX5I_u-u1"
      },
      "source": [
        "#TEST\n",
        "from keras.models import load_model\n",
        "from keras.preprocessing import image\n",
        "\n",
        "\n",
        "model_trained = load_model('bb.h5')\n",
        "\n",
        "\n",
        "img_path = '/content/drive/My Drive/Colab Notebooks/chairs_test/test/'\n",
        "# img1 = image.load_img(img_path, target_size=(224, 224))\n",
        "# x = image.img_to_array(img1)\n",
        "# x = np.expand_dims(x, axis=0)\n",
        "\n",
        "# preds = model_trained.predict(x)\n",
        "# print(preds)\n",
        "# yy=preds[0].argmax(axis=-1)\n",
        "\n",
        "# # np.array(X_train)[indices.astype(int)]\n",
        "# predicted_chair = class_names[yy]\n",
        "# print(predicted_chair)\n",
        "\n",
        "def classify(img_name):\n",
        "    img = image.load_img(img_path + '/' + img_name, target_size=(224, 224))\n",
        "    img_array = image.img_to_array(img)\n",
        "\n",
        "    img_batch = np.expand_dims(img_array, axis=0)\n",
        "\n",
        "    \n",
        "    prediction = model_trained.predict(img_batch)[0].argmax(axis=-1)\n",
        "\n",
        "    print(class_names[prediction])\n",
        "\n",
        "classify(\"5016victorian-armchairs-and-accent-chairs.jpg\")\n",
        "\n",
        "\n",
        "\n",
        "\n"
      ],
      "execution_count": null,
      "outputs": []
    },
    {
      "cell_type": "code",
      "metadata": {
        "id": "UWijtXBTfigY"
      },
      "source": [
        "def classify(img_name):\n",
        "    img = image.load_img(img_path + '/' + img_name, target_size=(224, 224))\n",
        "    img_array = image.img_to_array(img)\n",
        "\n",
        "    img_batch = np.expand_dims(img_array, axis=0)\n",
        "\n",
        "    \n",
        "    prediction = model_trained.predict(img_batch)[0].argmax(axis=-1)\n",
        "\n",
        "    print(class_names[prediction])\n",
        "\n",
        "classify(\"5016victorian-armchairs-and-accent-chairs.jpg\")"
      ],
      "execution_count": null,
      "outputs": []
    },
    {
      "cell_type": "code",
      "metadata": {
        "id": "Rwm_K7BGfvvO",
        "outputId": "2e49e6fc-6163-419f-8819-dbae93d9d067",
        "colab": {
          "base_uri": "https://localhost:8080/"
        }
      },
      "source": [
        "classify(\"17650midcentury-dining-chairs.jpg\")"
      ],
      "execution_count": 43,
      "outputs": [
        {
          "output_type": "stream",
          "text": [
            "Midcentury\n"
          ],
          "name": "stdout"
        }
      ]
    },
    {
      "cell_type": "code",
      "metadata": {
        "id": "RxThqOt_f9Vs"
      },
      "source": [
        "\n",
        "\n",
        "\n",
        "# N_CLASSES = 5\n",
        "\n",
        "# #kernel_initializer = tf.keras.initializers.glorot_uniform(seed=1337)\n",
        "# trained_model = tf.keras.applications.mobilenet_v2.MobileNetV2(\n",
        "#                       include_top=False,\n",
        "#                       weights='imagenet',\n",
        "#                       alpha=0.5,\n",
        "#                       input_shape=[224, 224, 3],\n",
        "#                       pooling='max')\n",
        "# output = tf.keras.layers.Dense(N_CLASSES, activation='softmax', kernel_initializer=kernel_initializer)(trained_model.output)\n",
        "# model = tf.keras.Model(inputs=trained_model.input, outputs=output)\n",
        "\n",
        "# # Callback to save weights, based on val_acc\n",
        "# model_checkpoint_callback = tf.keras.callbacks.ModelCheckpoint(\n",
        "#   './checkpoints/{epoch:02d}_{val_acc:.4f}.h5',\n",
        "#   save_weights_only=False,\n",
        "#   verbose=1,\n",
        "#   monitor='val_acc',\n",
        "#   save_best_only=True,\n",
        "#   mode='max'\n",
        "# )\n"
      ],
      "execution_count": 16,
      "outputs": []
    },
    {
      "cell_type": "code",
      "metadata": {
        "id": "XOmULDZClOwH"
      },
      "source": [
        "# print(len(ds_train))"
      ],
      "execution_count": 17,
      "outputs": []
    },
    {
      "cell_type": "code",
      "metadata": {
        "id": "2DPd4idxhf65"
      },
      "source": [
        "# # Callbackto plot data on TensorBoard\n",
        "# tensorboard_callback = tf.keras.callbacks.TensorBoard(\n",
        "#   log_dir='./logs/furniture_classifier',\n",
        "#   histogram_freq=0,\n",
        "#   batch_size=BATCH_SIZE\n",
        "# )\n",
        "\n",
        "# # Callback to reduce learning rate after plateaus\n",
        "# reduce_lr_callback = tf.keras.callbacks.ReduceLROnPlateau(\n",
        "#   monitor='val_acc',\n",
        "#   factor=0.5,\n",
        "#   patience=4,\n",
        "#   min_lr=1e-6\n",
        "# )\n",
        "\n",
        "# early_stopping_callback = tf.keras.callbacks.EarlyStopping(\n",
        "#   monitor='val_acc',\n",
        "#   patience=20,\n",
        "#   mode='max',\n",
        "# )\n",
        "\n",
        "# TRAIN_DATASET_SIZE = len(train_batches)\n",
        "# VAL_DATASET_SIZE   = len(val_batches)\n",
        "\n",
        "# # Weighted losses for class equilibrium\n",
        "# unique, counts = np.unique(ds_train.classes, return_counts=True)\n",
        "# class_weigths = dict(zip(unique, np.true_divide(counts.sum(), N_CLASSES*counts)))\n",
        "\n",
        "\n",
        "# if Path('./checkpoints/').exists():\n",
        "#   epoch_number_array = []\n",
        "#   val_accuracy_array = []\n",
        "#   file_name_array = []\n",
        "#   for file in os.listdir('./checkpoints/'):\n",
        "#     epoch, val_acc = re.search(r'(\\d\\d)_(\\d\\.\\d{4})\\.h5', file).group(1,2)\n",
        "#     epoch_number_array.append(int(epoch))\n",
        "#     val_accuracy_array.append(float(val_acc))\n",
        "#     file_name_array.append(file)\n",
        "\n",
        "#   if len(val_accuracy_array) == 0:\n",
        "#     INITIAL_EPOCH = 0\n",
        "#   else:\n",
        "#     highest_acc = val_accuracy_array.index(max(val_accuracy_array))\n",
        "#     INITIAL_EPOCH = epoch_number_array[highest_acc]\n",
        "#     model_checkpoint_callback.best = val_accuracy_array[highest_acc]\n",
        "#     model.load_weights('./checkpoints/'+file_name_array[highest_acc])\n",
        "# else:\n",
        "#   os.makedirs('./checkpoints/')\n",
        "# #   INITIAL_EPOCH = 0\n",
        " \n",
        "# TOTAL_EPOCHS = 10\n",
        "\n",
        "\n",
        "# Prepare model to run\n",
        "\n",
        "# callbacks = [\n",
        "#     keras.callbacks.ModelCheckpoint(\"save_at_{epoch}.h5\"),\n",
        "# ]\n",
        "# model.compile(optimizer = tf.keras.optimizers.Adam(),\n",
        "#               loss = 'categorical_crossentropy',\n",
        "#               metrics = ['accuracy']\n",
        "#               )\n",
        "\n",
        "\n",
        "\n",
        "# model.fit(\n",
        "#      ds_train, epochs=TOTAL_EPOCHS, callbacks=callbacks, validation_data=ds_valid,\n",
        "#  )\n",
        "# Starts training the model\n",
        "# model.fit_generator(train_batches,\n",
        "#                     epochs=TOTAL_EPOCHS,\n",
        "#                     verbose=1,\n",
        "#                     steps_per_epoch=TRAIN_DATASET_SIZE,\n",
        "#                     validation_data=val_batches,\n",
        "#                     validation_steps=VAL_DATASET_SIZE,\n",
        "#                     #initial_epoch=INITIAL_EPOCH,\n",
        "#                     #class_weight=class_weigths,\n",
        "#                     use_multiprocessing=True,\n",
        "#                     workers=4,\n",
        "#                     callbacks=[model_checkpoint_callback, tensorboard_callback, reduce_lr_callback, early_stopping_callback]\n",
        "#                     )"
      ],
      "execution_count": 18,
      "outputs": []
    },
    {
      "cell_type": "code",
      "metadata": {
        "id": "YaZpXSZ7hgLz"
      },
      "source": [
        ""
      ],
      "execution_count": 18,
      "outputs": []
    },
    {
      "cell_type": "code",
      "metadata": {
        "id": "sKDCYwiKhgUT"
      },
      "source": [
        ""
      ],
      "execution_count": 18,
      "outputs": []
    },
    {
      "cell_type": "code",
      "metadata": {
        "id": "QAj5F6A7hgVt"
      },
      "source": [
        ""
      ],
      "execution_count": 18,
      "outputs": []
    },
    {
      "cell_type": "markdown",
      "metadata": {
        "id": "qzNPupFkhaRl"
      },
      "source": [
        "Prev attempts\n"
      ]
    },
    {
      "cell_type": "code",
      "metadata": {
        "id": "wtjdIHGWvhFe"
      },
      "source": [
        "\n",
        "# # example of tending the vgg16 model\n",
        "# from keras.applications.vgg16 import VGG16\n",
        "# from keras.models import Model\n",
        "# from keras.layers import Dense\n",
        "# from keras.layers import Flatten\n",
        "# # load model without classifier layers\n",
        "# model = VGG16(include_top=False, input_shape=(224, 224, 3))\n",
        "# for layer in model.layers:\n",
        "# \tlayer.trainable = False\n",
        "\n",
        "# # add new classifier layers\n",
        "# flat1 = Flatten()(model.layers[-1].output)\n",
        "# class1 = Dense(1024, activation='relu')(flat1)\n",
        "# output = Dense(5, activation='softmax')(class1)\n",
        "# # define new model\n",
        "# model = Model(inputs=model.inputs, outputs=output)\n",
        "# # summarize\n",
        "# model.summary()"
      ],
      "execution_count": 19,
      "outputs": []
    },
    {
      "cell_type": "code",
      "metadata": {
        "id": "5YfgOBakwhH1"
      },
      "source": [
        "# #Adam optimizer\n",
        "\n",
        "# epochs = 50\n",
        "# callbacks = [\n",
        "#     keras.callbacks.ModelCheckpoint(\"save_at_{epoch}.h5\"),\n",
        "# ]\n",
        "# model.compile(\n",
        "#     optimizer=keras.optimizers.Adam(1e-3),\n",
        "#     loss= tf.keras.losses.CategoricalCrossentropy(),\n",
        "#     #loss=\"categorical_crossentropy\",\n",
        "#     metrics=[\"accuracy\"],\n",
        "# )\n",
        "# model.fit(\n",
        "#     ds_train, epochs=epochs, callbacks=callbacks, validation_data=ds_valid,\n",
        "# )"
      ],
      "execution_count": 20,
      "outputs": []
    },
    {
      "cell_type": "markdown",
      "metadata": {
        "id": "gi71LVV8Ejb_"
      },
      "source": [
        "#1 Try VGG16"
      ]
    },
    {
      "cell_type": "code",
      "metadata": {
        "id": "LiR3Fg5IEiRy"
      },
      "source": [
        "\n",
        "# model = Sequential()\n",
        "# model.add(Flatten(input_shape=train_features.shape[1:]))\n",
        "# model.add(Dense(4096, activation='relu'))\n",
        "# model.add(BatchNormalization())\n",
        "# model.add(Dropout(0.2))\n",
        "# model.add(Dense(512, activation='relu'))\n",
        "# model.add(BatchNormalization())\n",
        "# model.add(Dropout(0.3))\n",
        "# model.add(Dense(8, activation='softmax'))\n",
        "\n",
        "\n",
        "# # In[33]:\n",
        "\n",
        "\n",
        "# model.compile(optimizer=\"adam\",loss=\"categorical_crossentropy\",metrics =[\"accuracy\"])\n",
        "\n",
        "\n",
        "# # In[34]:\n",
        "\n",
        "# callbacks = EarlyStopping(monitor='val_loss', patience=4, verbose=1, mode='auto')        \n",
        "# # autosave best Model\n",
        "# best_model_file = \"./batch_normalized_weights.h5\"\n",
        "# best_model = ModelCheckpoint(best_model_file, monitor='val_acc', verbose = 1, save_best_only = True)\n",
        "\n",
        "\n",
        "# # In[ ]:\n",
        "\n",
        "# history = model.fit(train_features, onehot_train, batch_size=10, nb_epoch=10,\n",
        "#               validation_data=(valid_features,onehot_valid),shuffle=True,callbacks = [callbacks,best_model])\n",
        "\n",
        "\n",
        "# # In[ ]:\n",
        "\n",
        "# # summarize history for accuracy\n",
        "# plt.figure(figsize=(15, 5))\n",
        "# plt.subplot(1, 2, 1)\n",
        "# plt.plot(history.history['acc']); plt.plot(history.history['val_acc']);\n",
        "# plt.title('model accuracy'); plt.ylabel('accuracy');\n",
        "# plt.xlabel('epoch'); plt.legend(['train', 'valid'], loc='upper left');\n",
        "\n",
        "# # summarize history for loss\n",
        "# plt.subplot(1, 2, 2)\n",
        "# plt.plot(history.history['loss']); plt.plot(history.history['val_loss']);\n",
        "# plt.title('model loss'); plt.ylabel('loss');\n",
        "# plt.xlabel('epoch'); plt.legend(['train', 'valid'], loc='upper left');\n",
        "# plt.show()"
      ],
      "execution_count": 21,
      "outputs": []
    },
    {
      "cell_type": "markdown",
      "metadata": {
        "id": "831lLpFsJRab"
      },
      "source": [
        "EXAMPLE FROM KERAS GUIDE ON XCEPTION"
      ]
    },
    {
      "cell_type": "code",
      "metadata": {
        "id": "tNGuECOXtLpo"
      },
      "source": [
        "# image_size = (img_height, img_width)\n",
        "\n",
        "# def make_model(input_shape, num_classes):\n",
        "#     inputs = keras.Input(shape=input_shape)\n",
        "#     # Image augmentation block\n",
        "#     x = img_augmentation(inputs)\n",
        "#     #x = inputs\n",
        "\n",
        "#     # Entry block\n",
        "#     x = layers.experimental.preprocessing.Rescaling(1.0 / 255)(x)\n",
        "#     x = layers.Conv2D(32, 1, strides=2, padding=\"same\")(x)\n",
        "#     x = layers.BatchNormalization()(x)\n",
        "#     x = layers.Activation(\"relu\")(x)\n",
        "\n",
        "#     x = layers.Conv2D(64, 1, padding=\"same\")(x)\n",
        "#     x = layers.BatchNormalization()(x)\n",
        "#     x = layers.Activation(\"relu\")(x)\n",
        "\n",
        "#     previous_block_activation = x  # Set aside residual\n",
        "\n",
        "#     for size in [128, 256, 512, 728]:\n",
        "#         x = layers.Activation(\"relu\")(x)\n",
        "#         x = layers.SeparableConv2D(size, 3, padding=\"same\")(x)\n",
        "#         x = layers.BatchNormalization()(x)\n",
        "\n",
        "#         x = layers.Activation(\"relu\")(x)\n",
        "#         x = layers.SeparableConv2D(size, 3, padding=\"same\")(x)\n",
        "#         x = layers.BatchNormalization()(x)\n",
        "\n",
        "#         x = layers.MaxPooling2D(3, strides=2, padding=\"same\")(x)\n",
        "\n",
        "#         # Project residual\n",
        "#         residual = layers.Conv2D(size, 1, strides=2, padding=\"same\")(\n",
        "#             previous_block_activation\n",
        "#         )\n",
        "#         x = layers.add([x, residual])  # Add back residual\n",
        "#         previous_block_activation = x  # Set aside next residual\n",
        "\n",
        "#     x = layers.SeparableConv2D(1024, 3, padding=\"same\")(x)\n",
        "#     x = layers.BatchNormalization()(x)\n",
        "#     x = layers.Activation(\"relu\")(x)\n",
        "\n",
        "#     x = layers.GlobalAveragePooling2D()(x)\n",
        "#     if num_classes == 2:\n",
        "#         activation = \"sigmoid\"\n",
        "#         units = 1\n",
        "#     else:\n",
        "#         activation = \"softmax\"\n",
        "#         units = num_classes\n",
        "\n",
        "#     x = layers.Dropout(0.5)(x)\n",
        "#     outputs = layers.Dense(units, activation=activation)(x)\n",
        "#     return keras.Model(inputs, outputs)\n",
        "\n",
        "\n",
        "# model = make_model(input_shape=image_size + (3,), num_classes=5)\n",
        "# #keras.utils.plot_model(model, show_shapes=True)\n"
      ],
      "execution_count": 22,
      "outputs": []
    },
    {
      "cell_type": "code",
      "metadata": {
        "id": "pjL6O2-EtuLR"
      },
      "source": [
        "# #Adam optimizer\n",
        "\n",
        "# epochs = 50\n",
        "# callbacks = [\n",
        "#     keras.callbacks.ModelCheckpoint(\"save_at_{epoch}.h5\"),\n",
        "# ]\n",
        "# model.compile(\n",
        "#     optimizer=keras.optimizers.Adam(1e-3),\n",
        "#     loss= tf.keras.losses.SparseCategoricalCrossentropy(),\n",
        "#     #loss=\"categorical_crossentropy\",\n",
        "#     metrics=[\"accuracy\"],\n",
        "# )\n",
        "# model.fit(\n",
        "#     ds_train, epochs=epochs, callbacks=callbacks, validation_data=ds_valid,\n",
        "# )"
      ],
      "execution_count": 23,
      "outputs": []
    }
  ]
}
